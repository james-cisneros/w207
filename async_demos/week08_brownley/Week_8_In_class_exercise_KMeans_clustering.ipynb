{
  "nbformat": 4,
  "nbformat_minor": 0,
  "metadata": {
    "colab": {
      "provenance": []
    },
    "kernelspec": {
      "name": "python3",
      "display_name": "Python 3"
    },
    "language_info": {
      "name": "python"
    }
  },
  "cells": [
    {
      "cell_type": "code",
      "source": [
        "import numpy as np\n",
        "import matplotlib.pyplot as plt\n",
        "\n",
        "from sklearn.cluster import KMeans"
      ],
      "metadata": {
        "id": "mtJQpRdiB_9U"
      },
      "execution_count": 1,
      "outputs": []
    },
    {
      "cell_type": "markdown",
      "source": [
        "## Make blobs in X"
      ],
      "metadata": {
        "id": "5Of9pBSUCIh7"
      }
    },
    {
      "cell_type": "code",
      "source": [
        "X = np.loadtxt('https://gist.githubusercontent.com/cbrownley/c2db82b80b00e38ef3b1987b64f03d95/raw/cf1c7e393a092953ea482824872426402b63d73a/some_blobs.csv', delimiter=',').reshape(300, 2)\n",
        "X[:5]"
      ],
      "metadata": {
        "colab": {
          "base_uri": "https://localhost:8080/"
        },
        "id": "VSkeeLe94ruo",
        "outputId": "82e12a93-5e15-4f67-b36f-a057ebd5e333"
      },
      "execution_count": 2,
      "outputs": [
        {
          "output_type": "execute_result",
          "data": {
            "text/plain": [
              "array([[-1.47804153,  3.2093591 ],\n",
              "       [ 5.9766406 ,  1.44923279],\n",
              "       [10.1396158 , -1.98891907],\n",
              "       [ 9.93282365, -2.77237903],\n",
              "       [ 1.83769075,  1.82229552]])"
            ]
          },
          "metadata": {},
          "execution_count": 2
        }
      ]
    },
    {
      "cell_type": "code",
      "source": [
        "X.shape"
      ],
      "metadata": {
        "colab": {
          "base_uri": "https://localhost:8080/"
        },
        "id": "PuTeXzMrBunt",
        "outputId": "10da456c-77af-4b35-c7c4-46530ec429bd"
      },
      "execution_count": 3,
      "outputs": [
        {
          "output_type": "execute_result",
          "data": {
            "text/plain": [
              "(300, 2)"
            ]
          },
          "metadata": {},
          "execution_count": 3
        }
      ]
    },
    {
      "cell_type": "markdown",
      "source": [
        "## Step 1: [Use the elbow method to find the optimal number of clusters](https://learning.oreilly.com/library/view/python-machine-learning/9781789955750/Text/Chapter_11.xhtml#_idParaDest-212)\n",
        "\n",
        "Copy and paste the code block for the course textbook illustrating [using the elbow method to find the optimal number of clusters](https://learning.oreilly.com/library/view/python-machine-learning/9781789955750/Text/Chapter_11.xhtml#_idParaDest-212) to identify the optimal number of clusters contained in the data `X`."
      ],
      "metadata": {
        "id": "7N9hxRlsCqqu"
      }
    },
    {
      "cell_type": "code",
      "source": [
        "# SOURCE: https://learning.oreilly.com/library/view/python-machine-learning/9781789955750/Text/Chapter_11.xhtml#_idParaDest-212\n",
        "\n"
      ],
      "metadata": {
        "id": "PjKUHxEgCtD0"
      },
      "execution_count": null,
      "outputs": []
    },
    {
      "cell_type": "markdown",
      "source": [
        "## Step 2: [Fit KMeans using the optimal number of clusters](https://learning.oreilly.com/library/view/python-machine-learning/9781789955750/Text/Chapter_11.xhtml#_idParaDest-209)\n",
        "\n",
        "In the `KMeans()` constructor, set `n_clusters=` the optimal number of clusters you identified in Step 1 (as an integer), set `init='k-means++'`, and also set the other parameters used in the source link."
      ],
      "metadata": {
        "id": "1KU2I4dpDRFp"
      }
    },
    {
      "cell_type": "code",
      "source": [
        "# SOURCE: https://learning.oreilly.com/library/view/python-machine-learning/9781789955750/Text/Chapter_11.xhtml#_idParaDest-209\n",
        "\n"
      ],
      "metadata": {
        "id": "2SOpfto3DaVb"
      },
      "execution_count": null,
      "outputs": []
    },
    {
      "cell_type": "markdown",
      "source": [
        "## Step 3: [Plot the clusters and centroids](https://learning.oreilly.com/library/view/python-machine-learning/9781789955750/Text/Chapter_11.xhtml#_idParaDest-209)\n",
        "\n",
        "In the `range()` function, enter the optimal number of clusters you identified in Step 1 (as an integer) to plot the points for each cluster."
      ],
      "metadata": {
        "id": "QRA19J2wDWLW"
      }
    },
    {
      "cell_type": "code",
      "source": [
        "# SOURCE: https://learning.oreilly.com/library/view/python-machine-learning/9781789955750/Text/Chapter_11.xhtml#_idParaDest-209\n",
        "for i in range():\n",
        "    plt.scatter(X[y_km == i, 0],\n",
        "                X[y_km == i, 1],\n",
        "                s=50,\n",
        "                marker='s', edgecolor='black',\n",
        "                label=f'Cluster {i+1}')\n",
        "\n",
        "plt.scatter(km.cluster_centers_[:, 0],\n",
        "            km.cluster_centers_[:, 1],\n",
        "            s=250, marker='*',\n",
        "            c='red', edgecolor='black',\n",
        "            label='Centroids')\n",
        "\n",
        "plt.legend(scatterpoints=1)\n",
        "plt.grid()\n",
        "plt.tight_layout()\n",
        "plt.show();"
      ],
      "metadata": {
        "id": "Gk88xDIsDUpd"
      },
      "execution_count": null,
      "outputs": []
    }
  ]
}