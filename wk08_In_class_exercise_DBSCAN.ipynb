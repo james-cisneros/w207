{
  "nbformat": 4,
  "nbformat_minor": 0,
  "metadata": {
    "colab": {
      "provenance": []
    },
    "kernelspec": {
      "name": "python3",
      "display_name": "Python 3"
    },
    "language_info": {
      "name": "python"
    }
  },
  "cells": [
    {
      "cell_type": "code",
      "source": [
        "import numpy as np\n",
        "import matplotlib.pyplot as plt\n",
        "\n",
        "from sklearn.cluster import AgglomerativeClustering, DBSCAN, KMeans"
      ],
      "metadata": {
        "id": "mtJQpRdiB_9U"
      },
      "execution_count": null,
      "outputs": []
    },
    {
      "cell_type": "markdown",
      "source": [
        "## Make moons in X"
      ],
      "metadata": {
        "id": "5Of9pBSUCIh7"
      }
    },
    {
      "cell_type": "code",
      "source": [
        "X = np.loadtxt('https://gist.githubusercontent.com/cbrownley/bbad56c7621795b949dbe842dfd8f1aa/raw/30ebefcb4c4fecb0dc32f380e327753279cefacf/some_moons.csv', delimiter=',').reshape(200, 2)\n",
        "X[:5]"
      ],
      "metadata": {
        "colab": {
          "base_uri": "https://localhost:8080/"
        },
        "id": "eB-ic9pc43Wk",
        "outputId": "b23dcecb-3b7f-4ba4-e826-f57fc450ba17"
      },
      "execution_count": null,
      "outputs": [
        {
          "output_type": "execute_result",
          "data": {
            "text/plain": [
              "array([[ 0.81680544,  0.5216447 ],\n",
              "       [ 1.61859642, -0.37982927],\n",
              "       [-0.02126953,  0.27372826],\n",
              "       [-1.02181041, -0.07543984],\n",
              "       [ 1.76654633, -0.17069874]])"
            ]
          },
          "metadata": {},
          "execution_count": 2
        }
      ]
    },
    {
      "cell_type": "code",
      "source": [
        "X.shape"
      ],
      "metadata": {
        "colab": {
          "base_uri": "https://localhost:8080/"
        },
        "id": "PuTeXzMrBunt",
        "outputId": "fa63261f-b2ba-44d6-bd68-a6151e718ba8"
      },
      "execution_count": null,
      "outputs": [
        {
          "output_type": "execute_result",
          "data": {
            "text/plain": [
              "(200, 2)"
            ]
          },
          "metadata": {},
          "execution_count": 8
        }
      ]
    },
    {
      "cell_type": "markdown",
      "source": [
        "## Step 1: [Fit KMeans using 2 clusters](https://learning.oreilly.com/library/view/python-machine-learning/9781789955750/Text/Chapter_11.xhtml#_idParaDest-219)\n",
        "\n",
        "In the `KMeans()` constructor, set `n_clusters=2`, `n_init='auto'`, and `random_state=0`."
      ],
      "metadata": {
        "id": "Qff9rI2oED8F"
      }
    },
    {
      "cell_type": "code",
      "source": [
        "# SOURCE: https://learning.oreilly.com/library/view/python-machine-learning/9781789955750/Text/Chapter_11.xhtml#_idParaDest-219\n",
        "km = KMeans()\n",
        "y_km = km.fit_predict(X)\n",
        "y_km"
      ],
      "metadata": {
        "id": "PjKUHxEgCtD0"
      },
      "execution_count": null,
      "outputs": []
    },
    {
      "cell_type": "markdown",
      "source": [
        "## Step 2: [Fit AgglomerativeClustering using 2 clusters](https://learning.oreilly.com/library/view/python-machine-learning/9781789955750/Text/Chapter_11.xhtml#_idParaDest-219)\n",
        "\n",
        "In the `AgglomerativeClustering()` constructor, set `n_clusters=2`, `metric='euclidean'`, and `linkage='complete'`."
      ],
      "metadata": {
        "id": "ku0v9FVtErAW"
      }
    },
    {
      "cell_type": "code",
      "source": [
        "# SOURCE: https://learning.oreilly.com/library/view/python-machine-learning/9781789955750/Text/Chapter_11.xhtml#_idParaDest-219\n",
        "ac = AgglomerativeClustering()\n",
        "y_ac = ac.fit_predict(X)\n",
        "y_ac"
      ],
      "metadata": {
        "id": "HVBhnDHGDlX3"
      },
      "execution_count": null,
      "outputs": []
    },
    {
      "cell_type": "markdown",
      "source": [
        "## Step 3: Plot the [KMeans](https://learning.oreilly.com/library/view/python-machine-learning/9781789955750/Text/Chapter_11.xhtml#_idParaDest-219) and [AgglomerativeClustering](https://learning.oreilly.com/library/view/python-machine-learning/9781789955750/Text/Chapter_11.xhtml#_idParaDest-219) results"
      ],
      "metadata": {
        "id": "7c6UxuueE9_R"
      }
    },
    {
      "cell_type": "code",
      "source": [
        "f, (ax1, ax2) = plt.subplots(1, 2, figsize=(8, 3))\n",
        "\n",
        "# K-means clustering\n",
        "ax1.scatter(X[y_km == 0, 0], X[y_km == 0, 1],\n",
        "            edgecolor='black',\n",
        "            c='lightblue', marker='o', s=40, label='cluster 1')\n",
        "ax1.scatter(X[y_km == 1, 0], X[y_km == 1, 1],\n",
        "            edgecolor='black',\n",
        "            c='red', marker='s', s=40, label='cluster 2')\n",
        "ax1.set_title('K-means clustering')\n",
        "\n",
        "# Agglomerative clustering\n",
        "ax2.scatter(X[y_ac == 0, 0], X[y_ac == 0, 1], c='lightblue',\n",
        "            edgecolor='black',\n",
        "            marker='o', s=40, label='Cluster 1')\n",
        "ax2.scatter(X[y_ac == 1, 0], X[y_ac == 1, 1], c='red',\n",
        "            edgecolor='black',\n",
        "            marker='s', s=40, label='Cluster 2')\n",
        "ax2.set_title('Agglomerative clustering')\n",
        "\n",
        "plt.legend()\n",
        "plt.tight_layout()\n",
        "plt.show();"
      ],
      "metadata": {
        "id": "TksiLgjRDlUc"
      },
      "execution_count": null,
      "outputs": []
    },
    {
      "cell_type": "markdown",
      "source": [
        "## Step 4: [Fit DBSCAN](https://learning.oreilly.com/library/view/python-machine-learning/9781789955750/Text/Chapter_11.xhtml#_idParaDest-219)\n",
        "\n",
        "In the `DBSCAN()` constructor, set `eps=0.2`, `metric='euclidean'`, and `min_samples=5`."
      ],
      "metadata": {
        "id": "lor2KJ_SFkk3"
      }
    },
    {
      "cell_type": "code",
      "source": [
        "db = DBSCAN()\n",
        "y_db = db.fit_predict(X)\n",
        "y_db"
      ],
      "metadata": {
        "id": "rRGpk7_7DlRv"
      },
      "execution_count": null,
      "outputs": []
    },
    {
      "cell_type": "markdown",
      "source": [
        "## Step 5: Plot the [DBSCAN](https://learning.oreilly.com/library/view/python-machine-learning/9781789955750/Text/Chapter_11.xhtml#_idParaDest-219) results"
      ],
      "metadata": {
        "id": "PqTEnGo6GCfS"
      }
    },
    {
      "cell_type": "code",
      "source": [
        "plt.scatter(X[y_db == 0, 0], X[y_db == 0, 1],\n",
        "            c='lightblue', marker='o', s=40,\n",
        "            edgecolor='black',\n",
        "            label='Cluster 1')\n",
        "plt.scatter(X[y_db == 1, 0], X[y_db == 1, 1],\n",
        "            c='red', marker='s', s=40,\n",
        "            edgecolor='black',\n",
        "            label='Cluster 2')\n",
        "plt.legend()\n",
        "plt.tight_layout()\n",
        "plt.show();"
      ],
      "metadata": {
        "id": "eWCle0epDlPD"
      },
      "execution_count": null,
      "outputs": []
    }
  ]
}