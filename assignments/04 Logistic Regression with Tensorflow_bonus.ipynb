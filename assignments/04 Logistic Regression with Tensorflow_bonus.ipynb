{
 "cells": [
  {
   "cell_type": "markdown",
   "metadata": {
    "id": "MKsRDH5ZUdfasdv"
   },
   "source": [
    "# Assignment 4 - BONUS"
   ]
  },
  {
   "cell_type": "markdown",
   "metadata": {},
   "source": [
    "### <span style=\"color:chocolate\"> Submission requirements </span>\n",
    "\n",
    "Your work will not be graded if your notebook doesn't include output. In other words, <span style=\"color:red\"> make sure to rerun your notebook before submitting to Gradescope </span> (Note: if you are using Google Colab: go to Edit > Notebook Settings  and uncheck Omit code cell output when saving this notebook, otherwise the output is not printed).\n",
    "\n",
    "Additional points may be deducted if these requirements are not met:\n",
    "    \n",
    "* Comment your code;\n",
    "* Each graph should have a title, labels for each axis, and (if needed) a legend. Each graph should be understandable on its own;\n",
    "* Try and minimize the use of the global namespace (meaning, keep things inside functions).\n",
    "---"
   ]
  },
  {
   "cell_type": "markdown",
   "metadata": {},
   "source": [
    "### Import libraries"
   ]
  },
  {
   "cell_type": "code",
   "execution_count": 1,
   "metadata": {
    "id": "7X58hOMTUH-w"
   },
   "outputs": [
    {
     "name": "stderr",
     "output_type": "stream",
     "text": [
      "2024-06-09 16:44:34.141349: I tensorflow/core/util/port.cc:113] oneDNN custom operations are on. You may see slightly different numerical results due to floating-point round-off errors from different computation orders. To turn them off, set the environment variable `TF_ENABLE_ONEDNN_OPTS=0`.\n",
      "2024-06-09 16:44:34.141834: I external/local_tsl/tsl/cuda/cudart_stub.cc:32] Could not find cuda drivers on your machine, GPU will not be used.\n",
      "2024-06-09 16:44:34.146705: I external/local_tsl/tsl/cuda/cudart_stub.cc:32] Could not find cuda drivers on your machine, GPU will not be used.\n",
      "2024-06-09 16:44:34.211809: I tensorflow/core/platform/cpu_feature_guard.cc:210] This TensorFlow binary is optimized to use available CPU instructions in performance-critical operations.\n",
      "To enable the following instructions: AVX2 AVX_VNNI FMA, in other operations, rebuild TensorFlow with the appropriate compiler flags.\n",
      "2024-06-09 16:44:34.985269: W tensorflow/compiler/tf2tensorrt/utils/py_utils.cc:38] TF-TRT Warning: Could not find TensorRT\n"
     ]
    }
   ],
   "source": [
    "import numpy as np\n",
    "from matplotlib import pyplot as plt\n",
    "import pandas as pd\n",
    "import seaborn as sns  # for nicer plots\n",
    "sns.set(style=\"darkgrid\")  # default style\n",
    "\n",
    "from sklearn.model_selection import train_test_split\n",
    "from sklearn.metrics import confusion_matrix, ConfusionMatrixDisplay\n",
    "\n",
    "import tensorflow as tf\n",
    "from tensorflow import keras\n",
    "from keras import metrics\n",
    "from keras.datasets import fashion_mnist\n",
    "\n",
    "from collections import Counter\n",
    "\n",
    "# use imblearn to re-balance data\n",
    "from imblearn.under_sampling import RandomUnderSampler\n",
    "\n",
    "tf.get_logger().setLevel('INFO')"
   ]
  },
  {
   "cell_type": "markdown",
   "metadata": {},
   "source": [
    "---\n",
    "### Step 1: Data ingestion"
   ]
  },
  {
   "cell_type": "code",
   "execution_count": 2,
   "metadata": {},
   "outputs": [],
   "source": [
    "# Load the Fashion MNIST dataset.\n",
    "(X_train, Y_train), (X_test, Y_test) = fashion_mnist.load_data()"
   ]
  },
  {
   "cell_type": "markdown",
   "metadata": {},
   "source": [
    "---\n",
    "### Step 2: Exploratory Data Analysis (EDA)"
   ]
  },
  {
   "cell_type": "code",
   "execution_count": 3,
   "metadata": {},
   "outputs": [
    {
     "name": "stdout",
     "output_type": "stream",
     "text": [
      "X_train type: <class 'numpy.ndarray'> ; shape: (60000, 28, 28)\n",
      "Y_train type: <class 'numpy.ndarray'> ; shape: (60000,)\n",
      "X_test type: <class 'numpy.ndarray'> ; shape: (10000, 28, 28)\n",
      "Y_test type: <class 'numpy.ndarray'> ; shape: (10000,)\n"
     ]
    }
   ],
   "source": [
    "print('X_train type:', type(X_train), '; shape:', X_train.shape)\n",
    "print('Y_train type:', type(Y_train), '; shape:', Y_train.shape)\n",
    "print('X_test type:', type(X_test), '; shape:', X_test.shape)\n",
    "print('Y_test type:', type(Y_test), '; shape:', Y_test.shape)\n",
    "\n",
    "# Create list of the label names, per https://keras.io/api/datasets/fashion_mnist/\n",
    "label_names = ['T-shirt/top', 'Trouser', 'Pullover', 'Dress', 'Coat', 'Sandal', \n",
    "               'Shirt', 'Sneaker', 'Bag', 'Ankle boot']"
   ]
  },
  {
   "cell_type": "markdown",
   "metadata": {
    "id": "cZpFxxStzSrP"
   },
   "source": [
    "---\n",
    "### Step 3: Data preprocessing"
   ]
  },
  {
   "cell_type": "markdown",
   "metadata": {},
   "source": [
    "This step is essential for preparing this image data in a format that is suitable for ML algorithms. "
   ]
  },
  {
   "cell_type": "code",
   "execution_count": 4,
   "metadata": {},
   "outputs": [
    {
     "name": "stdout",
     "output_type": "stream",
     "text": [
      "X_train shape =  (60000, 784)\n",
      "X_test shape =  (10000, 784)\n"
     ]
    }
   ],
   "source": [
    "# Normalize data; use min and max from train set\n",
    "X_train_max = X_train.max()\n",
    "X_train_min = X_train.min()\n",
    "\n",
    "X_train = (X_train - X_train_min) / (X_train_max - X_train_min)\n",
    "X_test = (X_test - X_train_min) / (X_train_max - X_train_min)\n",
    "\n",
    "# flatten the 28x28 arrays to 1-d of 784\n",
    "X_train = X_train.reshape((X_train.shape[0], X_train.shape[1] * X_train.shape[2]))\n",
    "X_test = X_test.reshape((X_test.shape[0], X_test.shape[1] * X_test.shape[2]))\n",
    "\n",
    "print('X_train shape = ', X_train.shape)\n",
    "print('X_test shape = ', X_test.shape)\n"
   ]
  },
  {
   "cell_type": "code",
   "execution_count": 5,
   "metadata": {},
   "outputs": [],
   "source": [
    "# Make copies of the original dataset for binary classification task.\n",
    "Y_train = np.copy(Y_train)\n",
    "Y_test = np.copy(Y_test)\n",
    "\n",
    "Y_train = np.where(Y_train == 7, 1, 0)\n",
    "Y_test = np.where(Y_test == 7, 1, 0)\n"
   ]
  },
  {
   "cell_type": "markdown",
   "metadata": {},
   "source": [
    "### Undersample Training Set"
   ]
  },
  {
   "cell_type": "code",
   "execution_count": 6,
   "metadata": {},
   "outputs": [
    {
     "name": "stdout",
     "output_type": "stream",
     "text": [
      "Original class counts for train: Counter({0: 54000, 1: 6000})\n",
      "New class counts for train: Counter({0: 6000, 1: 6000})\n"
     ]
    }
   ],
   "source": [
    "print('Original class counts for train:', Counter(Y_train))\n",
    "\n",
    "# Undersample X_train and Y_train to balance for the 90/10 split\n",
    "# of non-sneakers to snakers\n",
    "rus = RandomUnderSampler(random_state=42)\n",
    "X_train_resample, Y_train_resample = rus.fit_resample(X_train, Y_train)\n",
    "\n",
    "print('New class counts for train:', Counter(Y_train_resample))"
   ]
  },
  {
   "cell_type": "code",
   "execution_count": 7,
   "metadata": {},
   "outputs": [
    {
     "name": "stdout",
     "output_type": "stream",
     "text": [
      "Shape of X_train_mini = (9600, 784)\n",
      "Shape of X_val = (2400, 784)\n",
      "Shape of Y_train_mini = (9600,)\n",
      "Shape of Y_val = (2400,)\n"
     ]
    }
   ],
   "source": [
    "# Split training into train and validation\n",
    "X_train_mini, X_val, Y_train_mini, Y_val = train_test_split(X_train_resample, Y_train_resample, test_size=0.2, random_state=1234) \n",
    "\n",
    "print('Shape of X_train_mini =', X_train_mini.shape)\n",
    "print('Shape of X_val =', X_val.shape)\n",
    "print('Shape of Y_train_mini =', Y_train_mini.shape)\n",
    "print('Shape of Y_val =', Y_val.shape)\n"
   ]
  },
  {
   "cell_type": "code",
   "execution_count": 8,
   "metadata": {},
   "outputs": [],
   "source": [
    "# shuffle data\n",
    "np.random.seed(0)\n",
    "shuffled_indices = np.random.permutation(range(len(Y_train_mini)))\n",
    "\n",
    "X_train_mini = X_train_mini[shuffled_indices]\n",
    "Y_train_mini = Y_train_mini[shuffled_indices]"
   ]
  },
  {
   "cell_type": "markdown",
   "metadata": {},
   "source": [
    "---\n",
    "### Step 4: Exploratory Data Analysis (EDA) - cont'd"
   ]
  },
  {
   "cell_type": "markdown",
   "metadata": {},
   "source": [
    "Before delving into model training, let's further explore the raw feature values by comparing sneaker and non-sneaker training images."
   ]
  },
  {
   "cell_type": "code",
   "execution_count": 9,
   "metadata": {},
   "outputs": [
    {
     "name": "stdout",
     "output_type": "stream",
     "text": [
      "Mean pixel value across all sneaker images =  0.168\n",
      "Mean pixel value across all non-sneaker images =  0.298\n"
     ]
    },
    {
     "data": {
      "image/png": "[encoded data removed]",
      "text/plain": [
       "<Figure size 640x480 with 2 Axes>"
      ]
     },
     "metadata": {},
     "output_type": "display_data"
    }
   ],
   "source": [
    "# get indexes for the sneaker images\n",
    "sneaker_idx = np.where(Y_train_mini == 1)[0]\n",
    "\n",
    "# get average pixel value for each sneaker sample\n",
    "sneaker_pixel_averages = [s.mean() for s in X_train_mini[sneaker_idx]]\n",
    "print(f'Mean pixel value across all sneaker images = {X_train_mini[sneaker_idx].mean(): 0.3f}')\n",
    "\n",
    "# create plots of the histogram for averages; share X-axis to better\n",
    "# visualize differences\n",
    "fig, ax = plt.subplots(2, sharex=True)\n",
    "\n",
    "# plot histogram of averages\n",
    "ax[0].hist(sneaker_pixel_averages)\n",
    "ax[0].set_title('Histogram - Average Pixel Values for Sneaker Images')\n",
    "ax[0].set_ylabel('Frequency')\n",
    "\n",
    "# get indexes for the non-sneaker images\n",
    "non_sneaker_idx = np.where(Y_train_mini == 0)[0]\n",
    "\n",
    "# get average pixel value for each non-sneaker sample\n",
    "non_sneaker_pixel_averages = [s.mean() for s in X_train_mini[non_sneaker_idx]]\n",
    "print(f'Mean pixel value across all non-sneaker images = {X_train_mini[non_sneaker_idx].mean(): 0.3f}')\n",
    "\n",
    "# plot histogram of averages\n",
    "ax[1].hist(non_sneaker_pixel_averages, bins=18)\n",
    "ax[1].set_title('Histogram - Average Pixel Values for Non-Sneaker Images')\n",
    "ax[1].set_xlabel('Average Pixel Value')\n",
    "ax[1].set_ylabel('Frequency')\n",
    "\n",
    "plt.tight_layout()\n",
    "plt.show()\n"
   ]
  },
  {
   "cell_type": "markdown",
   "metadata": {},
   "source": [
    "---\n",
    "### Step 4: Modeling"
   ]
  },
  {
   "cell_type": "code",
   "execution_count": 10,
   "metadata": {},
   "outputs": [],
   "source": [
    "def build_model(num_features, learning_rate):\n",
    "  \"\"\"Build a TF linear regression model using Keras.\n",
    "\n",
    "  Args:\n",
    "    num_features: The number of input features.\n",
    "    learning_rate: The desired learning rate for SGD.\n",
    "\n",
    "  Returns:\n",
    "    model: A tf.keras model (graph).\n",
    "  \"\"\"\n",
    "  # This is not strictly necessary, but each time you build a model, TF adds\n",
    "  # new nodes (rather than overwriting), so the colab session can end up\n",
    "  # storing lots of copies of the graph when you only care about the most\n",
    "  # recent. Also, as there is some randomness built into training with SGD,\n",
    "  # setting a random seed ensures that results are the same on each identical\n",
    "  # training run.\n",
    "  tf.keras.backend.clear_session()\n",
    "  tf.random.set_seed(0)\n",
    "\n",
    "  # Build a model using keras.Sequential. While this is intended for neural\n",
    "  # networks (which may have multiple layers), we want just a single layer for\n",
    "  # binary logistic regression.\n",
    "  model = tf.keras.Sequential()\n",
    "  model.add(tf.keras.layers.Dense(\n",
    "      units=1,        # output dim\n",
    "      input_shape=(num_features,),  # input dim\n",
    "      use_bias=True,               # use a bias (intercept) param\n",
    "      activation='sigmoid',\n",
    "      kernel_initializer=tf.ones_initializer,  # initialize params to 1\n",
    "      bias_initializer=tf.ones_initializer,    # initialize bias to 1\n",
    "  ))\n",
    "\n",
    "  # We need to choose an optimizer. We'll use SGD, which is actually mini-batch SGD\n",
    "  optimizer = tf.keras.optimizers.SGD(learning_rate=learning_rate)\n",
    "\n",
    "  # Finally, compile the model. Select the accuracy metric. This finalizes the graph for training.\n",
    "  model.compile(\n",
    "      loss=tf.keras.losses.BinaryCrossentropy(), \n",
    "      optimizer=optimizer,\n",
    "      metrics=[tf.keras.metrics.BinaryAccuracy()]\n",
    "    )\n",
    "    \n",
    "  return model"
   ]
  },
  {
   "cell_type": "markdown",
   "metadata": {},
   "source": [
    "---\n",
    "### Step 5: Hyperparameter tuning"
   ]
  },
  {
   "cell_type": "code",
   "execution_count": 11,
   "metadata": {},
   "outputs": [
    {
     "name": "stderr",
     "output_type": "stream",
     "text": [
      "/home/jcisneros/.local/lib/python3.10/site-packages/keras/src/layers/core/dense.py:87: UserWarning: Do not pass an `input_shape`/`input_dim` argument to a layer. When using Sequential models, prefer using an `Input(shape)` object as the first layer in the model instead.\n",
      "  super().__init__(activity_regularizer=activity_regularizer, **kwargs)\n"
     ]
    },
    {
     "name": "stdout",
     "output_type": "stream",
     "text": [
      "Final loss amount for training: 0.0752\n",
      "Final loss amount for validation: 0.0873\n",
      "Percent difference in traning and validation losses: 16.14%\n"
     ]
    },
    {
     "data": {
      "image/png": "[encoded data removed]",
      "text/plain": [
       "<Figure size 640x480 with 1 Axes>"
      ]
     },
     "metadata": {},
     "output_type": "display_data"
    }
   ],
   "source": [
    "tf.random.set_seed(0)\n",
    "# Build and compile model\n",
    "learning_rate = 0.005\n",
    "epochs = 500\n",
    "batch_size = 32\n",
    "\n",
    "model_tf = build_model(num_features=X_train_mini.shape[1], learning_rate=learning_rate)\n",
    "\n",
    "# Fit the model\n",
    "model_fit = model_tf.fit(\n",
    "    x=X_train_mini,\n",
    "    y=Y_train_mini,\n",
    "    epochs=epochs,\n",
    "    validation_data=(X_val, Y_val),\n",
    "    verbose=0\n",
    ")\n",
    "\n",
    "# Print model configuration\n",
    "train_final_loss = model_fit.history['loss'][epochs-1]\n",
    "val_final_loss = model_fit.history['val_loss'][epochs-1]\n",
    "print(f'Final loss amount for training: {train_final_loss:.4f}')\n",
    "print(f'Final loss amount for validation: {val_final_loss:.4f}')\n",
    "print(f'Percent difference in traning and validation losses: {(val_final_loss - train_final_loss) / train_final_loss * 100:.2f}%')\n",
    "\n",
    "# Plot the loss\n",
    "train_loss = model_fit.history['loss']\n",
    "val_loss = model_fit.history['val_loss']\n",
    "epochs_axis = range(1, epochs+1)\n",
    "\n",
    "plt.plot(epochs_axis, train_loss, label='Training loss')\n",
    "plt.plot(epochs_axis, val_loss, label='Validation loss')\n",
    "plt.title('Loss curve')\n",
    "plt.xlabel('Epochs')\n",
    "plt.ylabel('Loss')\n",
    "plt.legend(loc='upper right')\n",
    "\n",
    "plt.show()"
   ]
  },
  {
   "cell_type": "markdown",
   "metadata": {},
   "source": [
    "---\n",
    "### Step 6: Evaluation and Generalization"
   ]
  },
  {
   "cell_type": "code",
   "execution_count": 12,
   "metadata": {},
   "outputs": [
    {
     "name": "stdout",
     "output_type": "stream",
     "text": [
      "Accuracy for train data: 97.42%\n",
      "Accuracy for test data: 96.57%\n"
     ]
    }
   ],
   "source": [
    "# evaluate model on train and test data sets\n",
    "train_mini_eval = model_tf.evaluate(\n",
    "    x=X_train_mini,\n",
    "    y=Y_train_mini,\n",
    "    verbose=0\n",
    ")\n",
    "\n",
    "test_eval = model_tf.evaluate(\n",
    "    x=X_test,\n",
    "    y=Y_test,\n",
    "    verbose=0\n",
    ")\n",
    "\n",
    "print(f'Accuracy for train data: {train_mini_eval[1]*100:.2f}%')\n",
    "print(f'Accuracy for test data: {test_eval[1]*100:.2f}%')\n"
   ]
  },
  {
   "cell_type": "code",
   "execution_count": 13,
   "metadata": {},
   "outputs": [
    {
     "name": "stdout",
     "output_type": "stream",
     "text": [
      "\u001b[1m313/313\u001b[0m \u001b[32m━━━━━━━━━━━━━━━━━━━━\u001b[0m\u001b[37m\u001b[0m \u001b[1m0s\u001b[0m 961us/step\n"
     ]
    },
    {
     "data": {
      "image/png": "[encoded data removed]",
      "text/plain": [
       "<Figure size 640x480 with 2 Axes>"
      ]
     },
     "metadata": {},
     "output_type": "display_data"
    },
    {
     "name": "stdout",
     "output_type": "stream",
     "text": [
      "True Positives = 982\n",
      "False Negatives = 18\n",
      "False Positives = 325\n",
      "True Negatives = 8675\n",
      "Accuracy for sneakers =  98.20%\n",
      "Accuracy for non-sneakers =  96.39%\n",
      "\n",
      "The model trained on the balanced dataset has much better accuracy for the \n",
      "sneaker class at 98.2% vs 87.3% for the model trained on the full dataset. \n",
      "This was accomplished while making a relatively small trade-off in accuracy \n",
      "for non-sneakers from 98.6% using all data to 96.4% using the balanced data.\n",
      "This is still better than the baseline of 90%.\n",
      "\n"
     ]
    }
   ],
   "source": [
    "# get the predicted values for Test\n",
    "Y_test_pred = model_tf.predict(x=X_test).flatten()\n",
    "\n",
    "# convert the probabilities to the 0, 1 class values\n",
    "Y_test_pred = np.where(Y_test_pred >= 0.5, 1, 0)\n",
    "\n",
    "# print confusion matrix\n",
    "labels = ('non-sneaker', 'sneaker')\n",
    "cm = confusion_matrix(Y_test, Y_test_pred)\n",
    "disp = ConfusionMatrixDisplay(confusion_matrix=cm)\n",
    "disp.plot()\n",
    "plt.grid(False)\n",
    "plt.show()\n",
    "\n",
    "print(f'True Positives = {cm[1][1]}')\n",
    "print(f'False Negatives = {cm[1][0]}')\n",
    "print(f'False Positives = {cm[0][1]}')\n",
    "print(f'True Negatives = {cm[0][0]}')\n",
    "\n",
    "print(f'Accuracy for sneakers = {cm[1][1] / (cm[1][0] + cm[1][1]) * 100: .2f}%')\n",
    "print(f'Accuracy for non-sneakers = {cm[0][0] / (cm[0][0] + cm[0][1]) * 100: .2f}%')\n",
    "\n",
    "msg = \"\"\"\n",
    "The model trained on the balanced dataset has much better accuracy for the \n",
    "sneaker class at 98.2% vs 87.3% for the model trained on the full dataset. \n",
    "This was accomplished while making a relatively small trade-off in accuracy \n",
    "for non-sneakers from 98.6% using all data to 96.4% using the balanced data.\n",
    "This is still better than the baseline of 90%.\n",
    "\"\"\"\n",
    "print(msg)"
   ]
  }
 ],
 "metadata": {
  "colab": {
   "collapsed_sections": [
    "copyright",
    "LOcjWKAljbqr",
    "bCBT54r7k2YL",
    "loqjuOZFlEdt"
   ],
   "name": "04 Logistic Regression with Tensorflow.ipynb",
   "private_outputs": true,
   "provenance": [],
   "toc_visible": true
  },
  "kernelspec": {
   "display_name": "Python 3 (ipykernel)",
   "language": "python",
   "name": "python3"
  },
  "language_info": {
   "codemirror_mode": {
    "name": "ipython",
    "version": 3
   },
   "file_extension": ".py",
   "mimetype": "text/x-python",
   "name": "python",
   "nbconvert_exporter": "python",
   "pygments_lexer": "ipython3",
   "version": "3.10.12"
  }
 },
 "nbformat": 4,
 "nbformat_minor": 4
}
