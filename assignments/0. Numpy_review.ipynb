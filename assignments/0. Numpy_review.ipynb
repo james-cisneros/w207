{
 "cells": [
  {
   "cell_type": "markdown",
   "id": "fb19a209",
   "metadata": {},
   "source": [
    "# Assignment 0"
   ]
  },
  {
   "cell_type": "markdown",
   "id": "70578e9a",
   "metadata": {},
   "source": [
    "### <span style=\"color:chocolate\"> Submission requirements </span>\n",
    "\n",
    "Your work will not be graded if your notebook doesn't include output. In other words, <span style=\"color:red\"> make sure to rerun your notebook before submitting to Gradescope </span> (Note: if you are using Google Colab: go to Edit > Notebook Settings  and uncheck Omit code cell output when saving this notebook, otherwise the output is not printed).\n",
    "\n",
    "Additional points may be deducted if these requirements are not met:\n",
    "    \n",
    "* Comment your code;\n",
    "* Each graph should have a title, labels for each axis, and (if needed) a legend. Each graph should be understandable on its own;\n",
    "* Try and minimize the use of the global namespace (meaning, keep things inside functions).\n",
    "---"
   ]
  },
  {
   "cell_type": "markdown",
   "id": "13a171ed",
   "metadata": {},
   "source": [
    "### Import libraries"
   ]
  },
  {
   "cell_type": "code",
   "execution_count": 1,
   "id": "a64b2988",
   "metadata": {},
   "outputs": [],
   "source": [
    "import numpy as np"
   ]
  },
  {
   "cell_type": "markdown",
   "id": "809e27ae",
   "metadata": {},
   "source": [
    "---\n",
    "### <span style=\"color:chocolate\">Exercise 1:</span> Homogenous data types (10 points)\n",
    "\n",
    "1. Create a numpy array (my_array1) containing only integer values. Print the shape of the array and the type of its elements;\n",
    "2. Create another numpy array (my_array2) containing a mix of integer and string values. Print the shape of the array and the type of its elements. Comment on the type of its elements."
   ]
  },
  {
   "cell_type": "code",
   "execution_count": 2,
   "id": "ae568991",
   "metadata": {},
   "outputs": [
    {
     "name": "stdout",
     "output_type": "stream",
     "text": [
      "Shape of my_array1: (4,)\n",
      "Data types of my_array1: int64\n",
      "Shape of my_array2: (4,)\n",
      "Data types of my_array2: <U21\n"
     ]
    }
   ],
   "source": [
    "my_array1 = np.array([1, 2, 3, 4])\n",
    "print('Shape of my_array1:', my_array1.shape)\n",
    "print('Data types of my_array1:', my_array1.dtype)\n",
    "\n",
    "my_array2 = np.array(['A',1,'B',2])\n",
    "print('Shape of my_array2:', my_array2.shape)\n",
    "print('Data types of my_array2:', my_array2.dtype)\n",
    "\n",
    "# In an array with element of mixed data types, the data types will be cast to\n",
    "# a data type that can accommodate all elements. In this case, the type is a\n",
    "# Unicode type with length 21"
   ]
  },
  {
   "cell_type": "markdown",
   "id": "dd2832bf",
   "metadata": {},
   "source": [
    "---\n",
    "#### <span style=\"color:chocolate\">Exercise 2:</span> The size attribute (10 points)\n",
    "\n",
    "Create a numpy array (my_array3) and print its shape, size, and data type. What does size represent?"
   ]
  },
  {
   "cell_type": "code",
   "execution_count": 3,
   "id": "cca6b9a0",
   "metadata": {},
   "outputs": [
    {
     "name": "stdout",
     "output_type": "stream",
     "text": [
      "Shape of my_array3: (2, 4)\n",
      "Size of my_array3: 8\n",
      "Data types of my_array3: int64\n"
     ]
    }
   ],
   "source": [
    "my_array3 = np.array([[1,2,3,4],[5,6,7,8]])\n",
    "print('Shape of my_array3:', my_array3.shape)\n",
    "print('Size of my_array3:', my_array3.size)\n",
    "print('Data types of my_array3:', my_array3.dtype)\n",
    "\n",
    "# The size is the number of elements in the array"
   ]
  },
  {
   "cell_type": "markdown",
   "id": "6b407fab",
   "metadata": {},
   "source": [
    "---\n",
    "#### <span style=\"color:chocolate\">Exercise 3:</span> Tabular data layout (10 points)"
   ]
  },
  {
   "cell_type": "markdown",
   "id": "dd66e32a",
   "metadata": {},
   "source": [
    "Create a tabular data layout using the numpy method <span style=\"color:chocolate\">np.random.random()</span>, where:\n",
    "* the first input is num_samples, and\n",
    "* the second input is num_features. \n",
    "\n",
    "Print the shape of the array."
   ]
  },
  {
   "cell_type": "code",
   "execution_count": 4,
   "id": "742399c2",
   "metadata": {},
   "outputs": [
    {
     "data": {
      "text/plain": [
       "(100, 17)"
      ]
     },
     "execution_count": 4,
     "metadata": {},
     "output_type": "execute_result"
    }
   ],
   "source": [
    "# already defined first and second inputs\n",
    "num_samples = 100\n",
    "num_features = 17\n",
    "\n",
    "random_data = np.random.random((num_samples, num_features))\n",
    "random_data.shape"
   ]
  },
  {
   "cell_type": "markdown",
   "id": "100cc7cb",
   "metadata": {},
   "source": [
    "---\n",
    "#### <span style=\"color:chocolate\">Exercise 4:</span> Image data layout (10 points)"
   ]
  },
  {
   "cell_type": "markdown",
   "id": "1b5bf451",
   "metadata": {},
   "source": [
    "Create an image data layout using the numpy method <span style=\"color:chocolate\">np.random.random()</span>, where:\n",
    "\n",
    "* the first input is num_images;\n",
    "* the second input is num_rows;\n",
    "* the third input is num_cols;\n",
    "* the fourth input is num_channels.\n",
    "\n",
    "Print the shape of the array."
   ]
  },
  {
   "cell_type": "code",
   "execution_count": 5,
   "id": "51f6deb1",
   "metadata": {},
   "outputs": [
    {
     "data": {
      "text/plain": [
       "(100, 256, 256, 3)"
      ]
     },
     "execution_count": 5,
     "metadata": {},
     "output_type": "execute_result"
    }
   ],
   "source": [
    "# already defined inputs\n",
    "num_images = 100\n",
    "num_rows = 256\n",
    "num_cols = 256\n",
    "num_channels = 3 #(RGB)\n",
    "\n",
    "image_data = np.random.random((num_images, num_rows, num_cols, num_channels))\n",
    "image_data.shape"
   ]
  },
  {
   "cell_type": "markdown",
   "id": "33ee5e31",
   "metadata": {},
   "source": [
    "---\n",
    "#### <span style=\"color:chocolate\">Exercise 5: </span>Mathematical operations on numpy arrays (15 points)"
   ]
  },
  {
   "cell_type": "markdown",
   "id": "7f4b8b1f",
   "metadata": {},
   "source": [
    "Create a (3, 2) numpy array (you can name it my_array4) containing only integer values. Perform the following tasks:\n",
    "\n",
    "1. Print the shape of the array;\n",
    "2. Print the sum of all elements (hint: the axis argument is set to None);\n",
    "3. Print the sum of all elements by column;\n",
    "3. Print the sum of all elements by row and change the type of the resulting array elements to float;\n",
    "5. Print the first row of the array;\n",
    "6. Print the second row of the array;\n",
    "7. Select the element at position (1, 0);\n",
    "8. Modify the element at position (2, 1) by setting its value to 10 and print the array again;\n",
    "9. Loop over elements in the array. Print the output."
   ]
  },
  {
   "cell_type": "code",
   "execution_count": 6,
   "id": "a329fbf5",
   "metadata": {},
   "outputs": [
    {
     "name": "stdout",
     "output_type": "stream",
     "text": [
      "[[5 5]\n",
      " [6 3]\n",
      " [3 6]]\n",
      "1. Shape: (3, 2)\n",
      "2. Sum of elements: 28\n",
      "3. Sum of columns: [14 14]\n",
      "4. Sum of rows as floats: [10.  9.  9.]\n",
      "5. First row of array: [5 5]\n",
      "6. Second row of array: [6 3]\n",
      "7. Element at position (1,0): 6\n",
      "8. Set element at (2,1) to 10:\n",
      "[[ 5  5]\n",
      " [ 6  3]\n",
      " [ 3 10]]\n",
      "9. Loop over elements:\n",
      "5 5 6 3 3 10 "
     ]
    }
   ],
   "source": [
    "my_array4 = np.random.randint(0, 10, (3,2))\n",
    "\n",
    "print(my_array4)\n",
    "print('1. Shape:', my_array4.shape)\n",
    "print('2. Sum of elements:', my_array4.sum())\n",
    "print('3. Sum of columns:', my_array4.sum(0))\n",
    "print('4. Sum of rows as floats:', my_array4.sum(1).astype('float16'))\n",
    "print('5. First row of array:', my_array4[0])\n",
    "print('6. Second row of array:', my_array4[1])\n",
    "print('7. Element at position (1,0):', my_array4[1,0])\n",
    "# Set value at (2,1) to 10\n",
    "my_array4[2,1] = 10\n",
    "print('8. Set element at (2,1) to 10:')\n",
    "print(my_array4)\n",
    "print('9. Loop over elements:')\n",
    "for x in np.nditer(my_array4):\n",
    "    print(x, end=' ')\n"
   ]
  },
  {
   "cell_type": "markdown",
   "id": "33d6dc65",
   "metadata": {},
   "source": [
    "You can find more examples here: https://numpy.org/doc/stable/reference/routines.math.html"
   ]
  },
  {
   "cell_type": "markdown",
   "id": "3cbf1bcb",
   "metadata": {},
   "source": [
    "---\n",
    "#### <span style=\"color:chocolate\">Exercise 6:</span> Create arrays (15 points)\n",
    "\n",
    "1. Create and print a (3,2) numpy array of pixel values between 0 and 1.\n",
    "2. Create and print a (27,) numpy array representing years from 1991 to 2017\n",
    "3. Create and print a (3, 5, 10) empty numpy array\n",
    "4. Create and print a (3, 5, 10) numpy array of ones\n",
    "5. Create and print an array with a constant value (let's say 5) using np.ones()\n",
    "6. Create and print an array with random numbers drawn from a normal distribution with mean 0 and standard deviation 1. Set the sample size to 10.\n"
   ]
  },
  {
   "cell_type": "code",
   "execution_count": 19,
   "id": "7b13c758",
   "metadata": {},
   "outputs": [
    {
     "name": "stdout",
     "output_type": "stream",
     "text": [
      "1. Pixel array:\n",
      "[[1 1]\n",
      " [0 0]\n",
      " [1 1]]\n",
      "2. Years array: [1991 1992 1993 1994 1995 1996 1997 1998 1999 2000 2001 2002 2003 2004\n",
      " 2005 2006 2007 2008 2009 2010 2011 2012 2013 2014 2015 2016 2017]\n",
      "3. Empty array: [[[6.94350680e-310 6.94350680e-310 4.65082059e-310 4.65082059e-310\n",
      "   6.94350523e-310 6.94350660e-310 6.94350523e-310 6.94350662e-310\n",
      "   6.94350666e-310 6.94350666e-310]\n",
      "  [6.94350666e-310 6.94350666e-310 6.94350666e-310 6.94350336e-310\n",
      "   6.94350666e-310 6.94350660e-310 6.94350666e-310 6.94350336e-310\n",
      "   6.94350529e-310 6.94350648e-310]\n",
      "  [6.94350529e-310 6.94350522e-310 6.94350645e-310 6.94350648e-310\n",
      "   6.94350522e-310 6.94350646e-310 6.94350660e-310 6.94350457e-310\n",
      "   6.94350662e-310 6.94350659e-310]\n",
      "  [6.94350662e-310 6.94350457e-310 6.94350662e-310 6.94350659e-310\n",
      "   6.94350662e-310 6.94350660e-310 6.94350457e-310 6.94350662e-310\n",
      "   6.94350659e-310 6.94350662e-310]\n",
      "  [6.94350457e-310 6.94350662e-310 6.94350660e-310 6.94350662e-310\n",
      "   6.94350660e-310 6.94350660e-310 6.94350529e-310 6.94350529e-310\n",
      "   6.94350662e-310 6.94350666e-310]]\n",
      "\n",
      " [[6.94350666e-310 6.94350666e-310 6.94350666e-310 6.94350529e-310\n",
      "   6.94350666e-310 6.94350522e-310 6.94350666e-310 6.94350660e-310\n",
      "   6.94350666e-310 6.94350523e-310]\n",
      "  [6.94350659e-310 6.94350523e-310 6.94350522e-310 6.94350529e-310\n",
      "   6.94350648e-310 6.94350529e-310 6.94350522e-310 6.94350515e-310\n",
      "   6.94350660e-310 6.94350522e-310]\n",
      "  [6.94350182e-310 6.94350659e-310 6.94350182e-310 6.94350522e-310\n",
      "   6.94350182e-310 6.94350659e-310 6.94350182e-310 6.94350667e-310\n",
      "   6.94350662e-310 6.94350660e-310]\n",
      "  [6.94350662e-310 6.94350660e-310 6.94350529e-310 6.94350662e-310\n",
      "   6.94350666e-310 6.94350666e-310 6.94350666e-310 6.94350666e-310\n",
      "   6.94350666e-310 6.94350522e-310]\n",
      "  [6.94350666e-310 6.94350660e-310 6.94350666e-310 6.94350523e-310\n",
      "   6.94350659e-310 6.94350523e-310 6.94350522e-310 6.94350529e-310\n",
      "   6.94350648e-310 6.94350529e-310]]\n",
      "\n",
      " [[6.94350522e-310 6.94350658e-310 6.94350660e-310 6.94350570e-310\n",
      "   6.94350457e-310 6.94350662e-310 6.94350659e-310 6.94350662e-310\n",
      "   6.94350457e-310 6.94350662e-310]\n",
      "  [6.94350659e-310 6.94350662e-310 6.94350522e-310 6.94350662e-310\n",
      "   6.94350570e-310 6.94350662e-310 6.94350660e-310 6.94350660e-310\n",
      "   6.94350529e-310 6.94350662e-310]\n",
      "  [6.94350666e-310 6.94350666e-310 6.94350666e-310 6.94350666e-310\n",
      "   6.94350666e-310 6.94350522e-310 6.94350666e-310 6.94350660e-310\n",
      "   6.94350666e-310 6.94350523e-310]\n",
      "  [6.94350660e-310 6.94350426e-310 6.94350662e-310 6.94350666e-310\n",
      "   6.94350666e-310 6.94350666e-310 6.94350666e-310 6.94350666e-310\n",
      "   6.94350522e-310 6.94350666e-310]\n",
      "  [6.94350660e-310 6.94350666e-310 6.94350522e-310 6.94350529e-310\n",
      "   6.94350648e-310 6.94350529e-310 6.94350522e-310 6.94350515e-310\n",
      "   6.94350660e-310 6.94350660e-310]]]\n",
      "4. Array of ones:\n",
      "[[[1 1 1 1 1 1 1 1 1 1]\n",
      "  [1 1 1 1 1 1 1 1 1 1]\n",
      "  [1 1 1 1 1 1 1 1 1 1]\n",
      "  [1 1 1 1 1 1 1 1 1 1]\n",
      "  [1 1 1 1 1 1 1 1 1 1]]\n",
      "\n",
      " [[1 1 1 1 1 1 1 1 1 1]\n",
      "  [1 1 1 1 1 1 1 1 1 1]\n",
      "  [1 1 1 1 1 1 1 1 1 1]\n",
      "  [1 1 1 1 1 1 1 1 1 1]\n",
      "  [1 1 1 1 1 1 1 1 1 1]]\n",
      "\n",
      " [[1 1 1 1 1 1 1 1 1 1]\n",
      "  [1 1 1 1 1 1 1 1 1 1]\n",
      "  [1 1 1 1 1 1 1 1 1 1]\n",
      "  [1 1 1 1 1 1 1 1 1 1]\n",
      "  [1 1 1 1 1 1 1 1 1 1]]]\n",
      "5. Array of constants: [5 5 5 5 5 5 5 5 5 5]\n",
      "6. Array of normal distribution random numbers:\n",
      "[-0.80217284 -0.44887781 -1.10593508 -1.65451545 -2.3634686   1.13534535\n",
      " -1.01701414  0.63736181 -0.85990661  1.77260763]\n"
     ]
    }
   ],
   "source": [
    "print('1. Pixel array:')\n",
    "print(np.random.randint(0, 2, (3,2)))\n",
    "print('2. Years array:', np.arange(1991, 2018, 1))\n",
    "print('3. Empty array:', np.empty([3, 5, 10]))\n",
    "print('4. Array of ones:')\n",
    "print(np.ones((3, 5, 10), dtype=int))\n",
    "print('5. Array of constants:', np.ones(10, dtype=int) * 5)\n",
    "print('6. Array of normal distribution random numbers:')\n",
    "print(np.random.normal(0, 1, 10))"
   ]
  },
  {
   "cell_type": "markdown",
   "id": "d75ec682",
   "metadata": {},
   "source": [
    "---\n",
    "#### <span style=\"color:chocolate\">Exercise 7:</span> Reshape arrays (10 points)"
   ]
  },
  {
   "cell_type": "markdown",
   "id": "4af75cd1",
   "metadata": {},
   "source": [
    "Consider the following array:"
   ]
  },
  {
   "cell_type": "code",
   "execution_count": 8,
   "id": "e9c13f8b",
   "metadata": {},
   "outputs": [
    {
     "name": "stdout",
     "output_type": "stream",
     "text": [
      "(27,)\n"
     ]
    }
   ],
   "source": [
    "years = np.arange(1991, 2018, 1)\n",
    "print(years.shape)"
   ]
  },
  {
   "cell_type": "markdown",
   "id": "5c4d422e",
   "metadata": {},
   "source": [
    "Perform the following operations on this array:\n",
    "    \n",
    "1. Create 3 nested arrays, each of size (3, 3). Call this array years_3d;\n",
    "2. Convert the years_3d array to a flat 1D array. Call this array years_1d;\n",
    "3. Add a new axis (in front) to the years_1d array. Call this array years_2d;\n",
    "4. Remove the first axis from years_2d array. Call this array years_1d.\n",
    "\n",
    "For each exercise print the array and its shape."
   ]
  },
  {
   "cell_type": "code",
   "execution_count": 9,
   "id": "7d85dbd0",
   "metadata": {},
   "outputs": [
    {
     "name": "stdout",
     "output_type": "stream",
     "text": [
      "1. 3 nested arrays - years_3d:\n",
      "[[[1991 1992 1993]\n",
      "  [1994 1995 1996]\n",
      "  [1997 1998 1999]]\n",
      "\n",
      " [[2000 2001 2002]\n",
      "  [2003 2004 2005]\n",
      "  [2006 2007 2008]]\n",
      "\n",
      " [[2009 2010 2011]\n",
      "  [2012 2013 2014]\n",
      "  [2015 2016 2017]]]\n",
      "Shape of years_3d: (3, 3, 3)\n",
      "\n",
      "\n",
      "2. Flatten years_3d - years_1d:\n",
      "[1991 1992 1993 1994 1995 1996 1997 1998 1999 2000 2001 2002 2003 2004\n",
      " 2005 2006 2007 2008 2009 2010 2011 2012 2013 2014 2015 2016 2017]\n",
      "Shape of years_1d: (27,)\n",
      "\n",
      "\n",
      "3. Insert new axis to front of years_1d - years_2d:\n",
      "[[1991 1992 1993 1994 1995 1996 1997 1998 1999 2000 2001 2002 2003 2004\n",
      "  2005 2006 2007 2008 2009 2010 2011 2012 2013 2014 2015 2016 2017]]\n",
      "Shape of years_2d: (1, 27)\n",
      "\n",
      "\n",
      "4. Remove 1st axis from years_2d - years_1d:\n",
      "[1991 1992 1993 1994 1995 1996 1997 1998 1999 2000 2001 2002 2003 2004\n",
      " 2005 2006 2007 2008 2009 2010 2011 2012 2013 2014 2015 2016 2017]\n",
      "Shape of years_1d: (27,)\n"
     ]
    }
   ],
   "source": [
    "years_3d = years.reshape((3, 3, 3))\n",
    "print('1. 3 nested arrays - years_3d:')\n",
    "print(years_3d)\n",
    "print('Shape of years_3d:', years_3d.shape)\n",
    "print('\\n')\n",
    "\n",
    "years_1d = np.ravel(years_3d)\n",
    "print('2. Flatten years_3d - years_1d:')\n",
    "print(years_1d)\n",
    "print('Shape of years_1d:', years_1d.shape)\n",
    "print('\\n')\n",
    "\n",
    "years_2d = np.expand_dims(years_1d, axis=0)\n",
    "print('3. Insert new axis to front of years_1d - years_2d:')\n",
    "print(years_2d)\n",
    "print('Shape of years_2d:', years_2d.shape)\n",
    "print('\\n')\n",
    "\n",
    "years_1d = np.squeeze(years_2d)\n",
    "print('4. Remove 1st axis from years_2d - years_1d:')\n",
    "print(years_1d)\n",
    "print('Shape of years_1d:', years_1d.shape)\n"
   ]
  },
  {
   "cell_type": "markdown",
   "id": "b23bb336",
   "metadata": {},
   "source": [
    "---\n",
    "#### <span style=\"color:chocolate\">Exercise 8:</span> Joining arrays (10 points)"
   ]
  },
  {
   "cell_type": "markdown",
   "id": "921e4750",
   "metadata": {},
   "source": [
    "Provide 8 examples that use the methods <span style=\"color:cornflowerBlue\">np.concatenate()</span> and <span style=\"color:cornflowerBlue\">np.stack()</span>. Note: create 4 examples using each method."
   ]
  },
  {
   "cell_type": "code",
   "execution_count": 10,
   "id": "155c5ac2",
   "metadata": {},
   "outputs": [
    {
     "name": "stdout",
     "output_type": "stream",
     "text": [
      "Example 1\n",
      "--------------------\n",
      "Original arrays:\n",
      " a:\n",
      "[[ 0  7  0]\n",
      " [ 5  2  3]\n",
      " [10  4 10]]\n",
      " Shape = (3, 3)\n",
      " b:\n",
      "[[ 2  2  5]\n",
      " [ 9  6  4]\n",
      " [ 9 10  8]]\n",
      " Shape = (3, 3)\n",
      " \n",
      "Concat on axis 0:\n",
      "[[ 0  7  0]\n",
      " [ 5  2  3]\n",
      " [10  4 10]\n",
      " [ 2  2  5]\n",
      " [ 9  6  4]\n",
      " [ 9 10  8]]\n",
      " Shape = (6, 3)\n",
      "Stack on axis 0:\n",
      "[[[ 0  7  0]\n",
      "  [ 5  2  3]\n",
      "  [10  4 10]]\n",
      "\n",
      " [[ 2  2  5]\n",
      "  [ 9  6  4]\n",
      "  [ 9 10  8]]]\n",
      " Shape = (2, 3, 3)\n",
      "\n",
      "\n",
      "Example 2\n",
      "--------------------\n",
      "Original arrays:\n",
      " a:\n",
      "[[ 0  7  0]\n",
      " [ 5  2  3]\n",
      " [10  4 10]]\n",
      " Shape = (3, 3)\n",
      " b:\n",
      "[[ 2  2  5]\n",
      " [ 9  6  4]\n",
      " [ 9 10  8]]\n",
      " Shape = (3, 3)\n",
      " \n",
      "Concat on axis 1:\n",
      "[[ 0  7  0  2  2  5]\n",
      " [ 5  2  3  9  6  4]\n",
      " [10  4 10  9 10  8]]\n",
      " Shape = (3, 6)\n",
      "Stack on axis 1:\n",
      "[[[ 0  7  0]\n",
      "  [ 2  2  5]]\n",
      "\n",
      " [[ 5  2  3]\n",
      "  [ 9  6  4]]\n",
      "\n",
      " [[10  4 10]\n",
      "  [ 9 10  8]]]\n",
      " Shape = (3, 2, 3)\n",
      "\n",
      "\n",
      "Example 3\n",
      "--------------------\n",
      "Original arrays:\n",
      " a:\n",
      "[[ 0  7  0]\n",
      " [ 5  2  3]\n",
      " [10  4 10]]\n",
      " Shape = (3, 3)\n",
      " b:\n",
      "[[ 2  2  5]\n",
      " [ 9  6  4]\n",
      " [ 9 10  8]]\n",
      " Shape = (3, 3)\n",
      " \n",
      "Concat on axis None:\n",
      "[ 0  7  0  5  2  3 10  4 10  2  2  5  9  6  4  9 10  8]\n",
      " Shape = (18,)\n",
      "Stack on axis 2:\n",
      "[[[ 0  2]\n",
      "  [ 7  2]\n",
      "  [ 0  5]]\n",
      "\n",
      " [[ 5  9]\n",
      "  [ 2  6]\n",
      "  [ 3  4]]\n",
      "\n",
      " [[10  9]\n",
      "  [ 4 10]\n",
      "  [10  8]]]\n",
      " Shape = (3, 3, 2)\n",
      "\n",
      "\n",
      "Example 4\n",
      "--------------------\n",
      "Original arrays:\n",
      " a:\n",
      "[[ 0  7  0]\n",
      " [ 5  2  3]\n",
      " [10  4 10]]\n",
      " Shape = (3, 3)\n",
      " c:\n",
      "[[9 2 7]]\n",
      " Shape = (1, 3)\n",
      " \n",
      "Concat on axis 0:\n",
      "[[ 0  7  0]\n",
      " [ 5  2  3]\n",
      " [10  4 10]\n",
      " [ 9  2  7]]\n",
      " Shape = (4, 3)\n",
      "Stack 1st row of a on c on axis 0:\n",
      "[[[0 7 0]]\n",
      "\n",
      " [[9 2 7]]]\n",
      " Shape = (2, 1, 3)\n"
     ]
    }
   ],
   "source": [
    "a = np.random.randint(0, 11, (3,3))\n",
    "b = np.random.randint(0, 11, (3,3))\n",
    "c = np.random.randint(0, 11, (1,3))\n",
    "\n",
    "print(f'Example 1\\n{\"-\"*20}\\nOriginal arrays:\\n a:\\n{a}\\n Shape = {a.shape}\\n b:\\n{b}\\n Shape = {b.shape}\\n ')\n",
    "concat_1 = np.concatenate((a, b), axis=0)\n",
    "stack_1 = np.stack((a, b), axis=0)\n",
    "print(f'Concat on axis 0:\\n{concat_1}\\n Shape = {concat_1.shape}')\n",
    "print(f'Stack on axis 0:\\n{stack_1}\\n Shape = {stack_1.shape}')\n",
    "print('\\n')\n",
    "\n",
    "print(f'Example 2\\n{\"-\"*20}\\nOriginal arrays:\\n a:\\n{a}\\n Shape = {a.shape}\\n b:\\n{b}\\n Shape = {b.shape}\\n ')\n",
    "concat_2 = np.concatenate((a, b), axis=1)\n",
    "stack_2 = np.stack((a, b), axis=1)\n",
    "print(f'Concat on axis 1:\\n{concat_2}\\n Shape = {concat_2.shape}')\n",
    "print(f'Stack on axis 1:\\n{stack_2}\\n Shape = {stack_2.shape}')\n",
    "print('\\n')\n",
    "\n",
    "print(f'Example 3\\n{\"-\"*20}\\nOriginal arrays:\\n a:\\n{a}\\n Shape = {a.shape}\\n b:\\n{b}\\n Shape = {b.shape}\\n ')\n",
    "concat_3 = np.concatenate((a, b), axis=None)\n",
    "stack_3 = np.stack((a, b), axis=2)\n",
    "print(f'Concat on axis None:\\n{concat_3}\\n Shape = {concat_3.shape}')\n",
    "print(f'Stack on axis 2:\\n{stack_3}\\n Shape = {stack_3.shape}')\n",
    "print('\\n')\n",
    "\n",
    "print(f'Example 4\\n{\"-\"*20}\\nOriginal arrays:\\n a:\\n{a}\\n Shape = {a.shape}\\n c:\\n{c}\\n Shape = {c.shape}\\n ')\n",
    "concat_4 = np.concatenate((a, c), axis=0)\n",
    "stack_4 = np.stack((a[[0]], c), axis=0)\n",
    "print(f'Concat on axis 0:\\n{concat_4}\\n Shape = {concat_4.shape}')\n",
    "print(f'Stack 1st row of a on c on axis 0:\\n{stack_4}\\n Shape = {stack_4.shape}')\n"
   ]
  },
  {
   "cell_type": "markdown",
   "id": "10e5215e",
   "metadata": {},
   "source": [
    "---\n",
    "#### <span style=\"color:chocolate\">Numpy broadcasting</span> "
   ]
  },
  {
   "cell_type": "markdown",
   "id": "6d4ae245",
   "metadata": {},
   "source": [
    "The term broadcasting describes how NumPy treats arrays during arithmetic operations. You can find more here:  https://numpy.org/doc/stable/user/basics.broadcasting.html"
   ]
  },
  {
   "cell_type": "code",
   "execution_count": 11,
   "id": "4f6bfad7",
   "metadata": {},
   "outputs": [
    {
     "data": {
      "text/plain": [
       "array([1991, 1992, 1993, 1994, 1995, 1996, 1997, 1998, 1999, 2000, 2001,\n",
       "       2002, 2003, 2004, 2005, 2006, 2007, 2008, 2009, 2010, 2011, 2012,\n",
       "       2013, 2014, 2015, 2016, 2017])"
      ]
     },
     "execution_count": 11,
     "metadata": {},
     "output_type": "execute_result"
    }
   ],
   "source": [
    "# multiplying an array with a scalar\n",
    "years = np.arange(1991, 2018, 1)\n",
    "years * 1"
   ]
  },
  {
   "cell_type": "code",
   "execution_count": 12,
   "id": "58f33828",
   "metadata": {},
   "outputs": [
    {
     "data": {
      "text/plain": [
       "array([1993, 1994, 1995, 1996, 1997, 1998, 1999, 2000, 2001, 2002, 2003,\n",
       "       2004, 2005, 2006, 2007, 2008, 2009, 2010, 2011, 2012, 2013, 2014,\n",
       "       2015, 2016, 2017, 2018, 2019])"
      ]
     },
     "execution_count": 12,
     "metadata": {},
     "output_type": "execute_result"
    }
   ],
   "source": [
    "# adding a scalar\n",
    "years + 2"
   ]
  },
  {
   "cell_type": "code",
   "execution_count": 13,
   "id": "d1c150bf",
   "metadata": {},
   "outputs": [
    {
     "name": "stdout",
     "output_type": "stream",
     "text": [
      "Array a: [0 1 2]\n",
      "Array b: [0 1 2]\n",
      "Sum of a and b: [0 2 4]\n"
     ]
    }
   ],
   "source": [
    "# many arithmetic operations are applied element wise on a pair of arrays\n",
    "a = np.arange(3)\n",
    "print('Array a:', a)\n",
    "b = np.arange(3)\n",
    "print('Array b:', b)\n",
    "print('Sum of a and b:', a+b)"
   ]
  },
  {
   "cell_type": "code",
   "execution_count": 14,
   "id": "9718c167",
   "metadata": {},
   "outputs": [
    {
     "name": "stdout",
     "output_type": "stream",
     "text": [
      "Array a: [[1. 1. 1.]\n",
      " [1. 1. 1.]\n",
      " [1. 1. 1.]]\n",
      "\n",
      "Array b: [0 1 2]\n",
      "\n",
      "Sum of a and b: [[1. 2. 3.]\n",
      " [1. 2. 3.]\n",
      " [1. 2. 3.]]\n"
     ]
    }
   ],
   "source": [
    "# another example\n",
    "a = np.ones((3, 3))\n",
    "print('Array a:', a)\n",
    "b = np.arange(3)\n",
    "print('\\nArray b:', b)\n",
    "print('\\nSum of a and b:', a+b)"
   ]
  },
  {
   "cell_type": "markdown",
   "id": "a2106423",
   "metadata": {},
   "source": [
    "---\n",
    "#### <span style=\"color:chocolate\">Exercise 9:</span> Numpy array standardization (10 points)"
   ]
  },
  {
   "cell_type": "markdown",
   "id": "b928ab75",
   "metadata": {},
   "source": [
    "Consider the following (10, 4) array:"
   ]
  },
  {
   "cell_type": "code",
   "execution_count": 15,
   "id": "1daf0061",
   "metadata": {},
   "outputs": [
    {
     "name": "stdout",
     "output_type": "stream",
     "text": [
      "my_array shape:  (10, 4)\n"
     ]
    },
    {
     "data": {
      "text/plain": [
       "array([[0.6498928 , 0.55493883, 0.13314519, 0.86557862],\n",
       "       [0.3229546 , 0.41458647, 0.07016092, 0.76583453],\n",
       "       [0.07884411, 0.69312411, 0.79234896, 0.19591758],\n",
       "       [0.24148358, 0.22399551, 0.63243409, 0.06205178],\n",
       "       [0.00847045, 0.41591398, 0.75004022, 0.22669297],\n",
       "       [0.51385244, 0.91647185, 0.7006362 , 0.52420164],\n",
       "       [0.02333278, 0.72098503, 0.5145332 , 0.12702574],\n",
       "       [0.10330266, 0.29151907, 0.2910087 , 0.96679331],\n",
       "       [0.70639668, 0.71151195, 0.5293661 , 0.53715354],\n",
       "       [0.85168963, 0.22975114, 0.62877483, 0.00541378]])"
      ]
     },
     "execution_count": 15,
     "metadata": {},
     "output_type": "execute_result"
    }
   ],
   "source": [
    "my_array = np.random.random((10, 4))\n",
    "print('my_array shape: ', my_array.shape)\n",
    "my_array"
   ]
  },
  {
   "cell_type": "markdown",
   "id": "d24063b3",
   "metadata": {},
   "source": [
    "Peform the following operations on this array:\n",
    "1. Compute and print the mean and std for each column (note: set keepdims=True for proper broadcasting).\n",
    "2. Standardize and print the array and its shape using the mean and std you computed above."
   ]
  },
  {
   "cell_type": "code",
   "execution_count": 16,
   "id": "7970e2fe",
   "metadata": {},
   "outputs": [
    {
     "name": "stdout",
     "output_type": "stream",
     "text": [
      "Mean for columns: [[0.35002197 0.51727979 0.50424484 0.42766635]]\n",
      "Standard deviation for columns: [[0.29423471 0.22613999 0.24213209 0.33384773]]\n",
      "Standardized values for my_array:\n",
      "[[ 1.01915517  0.16652977 -1.53263307  1.3117126 ]\n",
      " [-0.09199246 -0.45411397 -1.79275666  1.01294138]\n",
      " [-0.9216379   0.77759056  1.18986343 -0.69417507]\n",
      " [-0.3688837  -1.29691476  0.52941866 -1.09515366]\n",
      " [-1.16081315 -0.44824366  1.01512928 -0.60199116]\n",
      " [ 0.55680198  1.76524313  0.81109182  0.28915964]\n",
      " [-1.11030133  0.90079266  0.0424907  -0.90053213]\n",
      " [-0.83851193 -0.99832289 -0.88066039  1.61488879]\n",
      " [ 1.21119193  0.85890229  0.10375023  0.32795548]\n",
      " [ 1.7049914  -1.27146313  0.51430599 -1.26480586]]\n"
     ]
    }
   ],
   "source": [
    "np.random.seed(seed=1)\n",
    "\n",
    "col_means = np.mean(my_array, axis=0, keepdims=True)\n",
    "col_stddev = np.std(my_array, axis=0, keepdims=True)\n",
    "\n",
    "print('Mean for columns:', col_means)\n",
    "print('Standard deviation for columns:', col_stddev)\n",
    "print('Standardized values for my_array:')\n",
    "print((my_array  - col_means) / col_stddev)"
   ]
  },
  {
   "cell_type": "markdown",
   "id": "87de03c8",
   "metadata": {},
   "source": [
    "----\n",
    "#### <span style=\"color:chocolate\">Bonus question:</span> Advanced (20 points)"
   ]
  },
  {
   "cell_type": "markdown",
   "id": "b3c84045",
   "metadata": {},
   "source": [
    "Consider the following image:"
   ]
  },
  {
   "cell_type": "code",
   "execution_count": 17,
   "id": "9483dfe7",
   "metadata": {},
   "outputs": [
    {
     "name": "stdout",
     "output_type": "stream",
     "text": [
      "[[0.   0.04 0.08 0.12 0.16]\n",
      " [0.2  0.24 0.28 0.32 0.36]\n",
      " [0.4  0.44 0.48 0.52 0.56]\n",
      " [0.6  0.64 0.68 0.72 0.76]\n",
      " [0.8  0.84 0.88 0.92 0.96]]\n"
     ]
    },
    {
     "data": {
      "text/plain": [
       "(5, 5)"
      ]
     },
     "execution_count": 17,
     "metadata": {},
     "output_type": "execute_result"
    }
   ],
   "source": [
    "my_image = np.arange(0, 1, 0.04).reshape(5,5)\n",
    "print(my_image)\n",
    "my_image.shape"
   ]
  },
  {
   "cell_type": "markdown",
   "id": "364e6cf2",
   "metadata": {},
   "source": [
    "Perform the following operations on this image (do not overwrite the original image):\n",
    "\n",
    "1. Crop by using a border of size 1;\n",
    "2. Crop by using a border of size 2;\n",
    "3. Reverse the column order;\n",
    "4. set to 0.5 elements divizible by 2."
   ]
  },
  {
   "cell_type": "code",
   "execution_count": 18,
   "id": "70eae368",
   "metadata": {},
   "outputs": [
    {
     "name": "stdout",
     "output_type": "stream",
     "text": [
      "1. Crop border size of 1:\n",
      "[[0.24 0.28 0.32]\n",
      " [0.44 0.48 0.52]\n",
      " [0.64 0.68 0.72]]\n",
      "\n",
      "\n",
      "2. Crop border size of 2:\n",
      "[[0.48]]\n",
      "\n",
      "\n",
      "3. Reverse column order:\n",
      "[[0.16 0.12 0.08 0.04 0.  ]\n",
      " [0.36 0.32 0.28 0.24 0.2 ]\n",
      " [0.56 0.52 0.48 0.44 0.4 ]\n",
      " [0.76 0.72 0.68 0.64 0.6 ]\n",
      " [0.96 0.92 0.88 0.84 0.8 ]]\n",
      "\n",
      "\n",
      "4. Set even elements to 0.5:\n",
      "[[0.5 0.5 0.5 0.5 0.5]\n",
      " [0.5 0.5 0.5 0.5 0.5]\n",
      " [0.5 0.5 0.5 0.5 0.5]\n",
      " [0.5 0.5 0.5 0.5 0.5]\n",
      " [0.5 0.5 0.5 0.5 0.5]]\n"
     ]
    }
   ],
   "source": [
    "def crop_image(image_array, border_size):\n",
    "    '''\n",
    "    Crop an image array by removing the given border size rows and columns\n",
    "    from the provided array.\n",
    "    \n",
    "    ARGS\n",
    "    image_array (np array): original image 2D array\n",
    "    border_size (int): number of units to crop \n",
    "\n",
    "    RETURN\n",
    "    numpy 2D array\n",
    "    '''\n",
    "    orig_rows = image_array.shape[0]\n",
    "    new_rows = orig_rows - border_size\n",
    "    orig_cols = image_array.shape[1]\n",
    "    new_cols = orig_cols - border_size\n",
    "    \n",
    "    return image_array[border_size:new_rows, border_size:new_cols]\n",
    "\n",
    "print('1. Crop border size of 1:')\n",
    "cropped_image = crop_image(my_image, 1)\n",
    "print(cropped_image)\n",
    "print('\\n')\n",
    "\n",
    "print('2. Crop border size of 2:')\n",
    "cropped_image = crop_image(my_image, 2)\n",
    "print(cropped_image)\n",
    "print('\\n')\n",
    "\n",
    "print('3. Reverse column order:')\n",
    "print(my_image[:,::-1])\n",
    "print('\\n')\n",
    "\n",
    "print('4. Set even elements to 0.5:')\n",
    "# Use divmod to avoid the rounding errors when dividing floats\n",
    "new_image = np.where(divmod(my_image, 2)[0] == 0, .5, my_image)\n",
    "print(new_image)\n"
   ]
  }
 ],
 "metadata": {
  "kernelspec": {
   "display_name": "Python 3 (ipykernel)",
   "language": "python",
   "name": "python3"
  },
  "language_info": {
   "codemirror_mode": {
    "name": "ipython",
    "version": 3
   },
   "file_extension": ".py",
   "mimetype": "text/x-python",
   "name": "python",
   "nbconvert_exporter": "python",
   "pygments_lexer": "ipython3",
   "version": "3.10.12"
  }
 },
 "nbformat": 4,
 "nbformat_minor": 5
}
