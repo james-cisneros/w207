{
 "cells": [
  {
   "cell_type": "markdown",
   "metadata": {
    "id": "rHLcriKWLRe4"
   },
   "source": [
    "# Assignement 2"
   ]
  },
  {
   "cell_type": "markdown",
   "metadata": {},
   "source": [
    "### <span style=\"color:chocolate\"> Submission requirements </span>\n",
    "\n",
    "Your homework will not be graded if your notebook doesn't include output. In other words, <span style=\"color:red\"> make sure to rerun your notebook before submitting to Gradescope </span> (Note: if you are using Google Colab: go to Edit > Notebook Settings  and uncheck Omit code cell output when saving this notebook, otherwise the output is not printed).\n",
    "\n",
    "Additional points may be deducted if these requirements are not met:\n",
    "    \n",
    "* Comment your code;\n",
    "* Each graph should have a title, labels for each axis, and (if needed) a legend. Each graph should be understandable on its own;\n",
    "* Try and minimize the use of the global namespace (meaning, keep things inside functions).\n",
    "---"
   ]
  },
  {
   "cell_type": "markdown",
   "metadata": {},
   "source": [
    "### Import libraries"
   ]
  },
  {
   "cell_type": "code",
   "execution_count": 7,
   "metadata": {
    "id": "7X58hOMTUH-w"
   },
   "outputs": [],
   "source": [
    "import numpy as np\n",
    "from sklearn.model_selection import train_test_split\n",
    "from sklearn.metrics import mean_squared_error\n",
    "import matplotlib.pyplot as plt"
   ]
  },
  {
   "cell_type": "markdown",
   "metadata": {},
   "source": [
    "### Define functions"
   ]
  },
  {
   "cell_type": "code",
   "execution_count": 8,
   "metadata": {},
   "outputs": [],
   "source": [
    "def create_1d_data(num_examples, w, b, bound):\n",
    "  \"\"\"Create X, Y data with a linear relationship with added noise.\n",
    "\n",
    "  Args:\n",
    "    num_examples: number of examples to generate\n",
    "    w: desired slope\n",
    "    b: desired intercept\n",
    "    bound: lower and upper boundary of the data interval\n",
    "\n",
    "  Returns:\n",
    "    X and Y with shape (num_examples)\n",
    "  \"\"\"\n",
    "  np.random.seed(4)  # consistent random number generation\n",
    "  X = np.arange(num_examples)\n",
    "  deltas = np.random.uniform(low=-bound, high=bound, size=X.shape) # added noise\n",
    "  Y = b + deltas + w * X\n",
    "\n",
    "  return X, Y"
   ]
  },
  {
   "cell_type": "markdown",
   "metadata": {},
   "source": [
    "---\n",
    "### Step 1: Data ingestion"
   ]
  },
  {
   "cell_type": "markdown",
   "metadata": {},
   "source": [
    "Let's start by creating some artificial data using the <span style=\"color:chocolate\">create_1d_data()</span> function defined at the top of the notebook."
   ]
  },
  {
   "cell_type": "code",
   "execution_count": 12,
   "metadata": {
    "id": "6qJg0IiYVJ8U"
   },
   "outputs": [
    {
     "name": "stdout",
     "output_type": "stream",
     "text": [
      "Printing shape of X: (70,)\n",
      "Printing first 10 elements in X: [0 1 2 3 4 5 6 7 8 9]\n",
      "\n",
      "Printing shape of Y: (70,)\n",
      "Printing first 10 elements in Y: [ 1.93405968  3.0944645   5.94536872  7.42963199  9.39545765 10.43217899\n",
      " 13.95254891 14.01246051 16.50596472 18.86958306]\n"
     ]
    }
   ],
   "source": [
    "# Define parameters\n",
    "num_examples = 70\n",
    "w = 2\n",
    "b = 1\n",
    "bound = 1\n",
    "\n",
    "# Create data\n",
    "X, Y = create_1d_data(num_examples, w, b, bound)\n",
    "\n",
    "# Print shapes\n",
    "print('Printing shape of X:', X.shape)\n",
    "print('Printing first 10 elements in X:', X[:10])\n",
    "print('\\nPrinting shape of Y:', Y.shape)\n",
    "print('Printing first 10 elements in Y:', Y[:10])"
   ]
  },
  {
   "cell_type": "markdown",
   "metadata": {
    "id": "8NXo1n9j1LMT"
   },
   "source": [
    "---\n",
    "### Step 2: Data Preprocessing"
   ]
  },
  {
   "cell_type": "markdown",
   "metadata": {},
   "source": [
    "Our objectives here involve adding one more feature to X and creating data partitions."
   ]
  },
  {
   "cell_type": "markdown",
   "metadata": {},
   "source": [
    "### <span style=\"color:chocolate\">Exercise 1:</span> Adding features (10 points)"
   ]
  },
  {
   "cell_type": "markdown",
   "metadata": {},
   "source": [
    "1. Add a column of $1s$ to $X$ (this will serve as an intercept or \"bias\" in our modeling task later on). Note: do not create a new array, just concatenate with the current values;\n",
    "2. Print the shape of the array."
   ]
  },
  {
   "cell_type": "code",
   "execution_count": 13,
   "metadata": {},
   "outputs": [
    {
     "name": "stdout",
     "output_type": "stream",
     "text": [
      "(70, 2)\n"
     ]
    },
    {
     "data": {
      "text/plain": [
       "array([[1., 0.],\n",
       "       [1., 1.],\n",
       "       [1., 2.],\n",
       "       [1., 3.],\n",
       "       [1., 4.]])"
      ]
     },
     "execution_count": 13,
     "metadata": {},
     "output_type": "execute_result"
    }
   ],
   "source": [
    "# add a column of 1s to the front of the X matrix\n",
    "X = np.stack((np.ones(num_examples), X), axis=1)\n",
    "print(X.shape)\n",
    "\n",
    "X[:5]"
   ]
  },
  {
   "cell_type": "markdown",
   "metadata": {},
   "source": [
    "### <span style=\"color:chocolate\">Exercise 2:</span> Data splits (10 points)"
   ]
  },
  {
   "cell_type": "markdown",
   "metadata": {},
   "source": [
    "Using the <span style=\"color:chocolate\">train_test_split()</span> method available in scikit-learn:\n",
    "1. Split the (X,Y) data into training and test paritions by setting test_size=0.2 and random_state=1234. All the other arguments of the method are set to default values. Name the resulting arrays X_train, X_test, Y_train, Y_test;\n",
    "2. Print the shape of each array."
   ]
  },
  {
   "cell_type": "code",
   "execution_count": 5,
   "metadata": {},
   "outputs": [
    {
     "name": "stdout",
     "output_type": "stream",
     "text": [
      "Shape of X_train: (56, 2)\n",
      "Shape of X_test: (14, 2)\n",
      "Shape of Y_train: (56,)\n",
      "Shape of Y_test: (14,)\n"
     ]
    }
   ],
   "source": [
    "X_train, X_test, Y_train, Y_test = train_test_split(X, Y, test_size=0.2, random_state=1234)\n",
    "\n",
    "print('Shape of X_train:', X_train.shape)\n",
    "print('Shape of X_test:', X_test.shape)\n",
    "print('Shape of Y_train:', Y_train.shape)\n",
    "print('Shape of Y_test:', Y_test.shape)\n"
   ]
  },
  {
   "cell_type": "markdown",
   "metadata": {},
   "source": [
    "---\n",
    "### Step 3: Exploratory data analysis (EDA)"
   ]
  },
  {
   "cell_type": "markdown",
   "metadata": {},
   "source": [
    "### <span style=\"color:chocolate\">Exercise 3:</span> Plots (10 points)"
   ]
  },
  {
   "cell_type": "markdown",
   "metadata": {},
   "source": [
    "Create a side-by-side histogram for the values in Y_train and X_train. Make sure to include axes name and titles for each subplot."
   ]
  },
  {
   "cell_type": "code",
   "execution_count": 6,
   "metadata": {},
   "outputs": [
    {
     "data": {
      "image/png": "[encoded data removed]",
      "text/plain": [
       "<Figure size 640x480 with 2 Axes>"
      ]
     },
     "metadata": {},
     "output_type": "display_data"
    }
   ],
   "source": [
    "fig, axs = plt.subplots(1, 2, tight_layout=True)\n",
    "\n",
    "axs[0].hist(Y_train)\n",
    "axs[0].set_title('Distribution for Y_Train')\n",
    "axs[0].set_xlabel('Y_train Values')\n",
    "axs[0].set_ylabel('Frequency')\n",
    "# plot just the 2nd column/non-1s column for X\n",
    "axs[1].hist(X_train[:,1])\n",
    "axs[1].set_title('Distribution for X_Train')\n",
    "axs[1].set_xlabel('X_train non-Bias Values')\n",
    "\n",
    "plt.show()"
   ]
  },
  {
   "cell_type": "markdown",
   "metadata": {},
   "source": [
    "---\n",
    "### Step 4: Modeling"
   ]
  },
  {
   "cell_type": "markdown",
   "metadata": {},
   "source": [
    "Let's start by considering the two models proposed in Assignment 1:\n",
    "1. $M_1(x) = 5+x$ \n",
    "2. $M_2(x) = 1+2x$"
   ]
  },
  {
   "cell_type": "markdown",
   "metadata": {},
   "source": [
    "### <span style=\"color:chocolate\">Exercise 4:</span> Practice with Parameters (10 points)"
   ]
  },
  {
   "cell_type": "markdown",
   "metadata": {},
   "source": [
    "Perform the following computations:\n",
    "\n",
    "1. Use matrix multiplication (np.dot) to create $M_1$ and $M_2$ (as previously defined) to produce vectors of predictions using the X_train data. Call these predictions M1_hat_train, M2_hat_train. Hint: the \"learned\" parameters are alredy provided to you;\n",
    "3. Print the shapes of the predictions to verify that they match the shape of Y_train."
   ]
  },
  {
   "cell_type": "code",
   "execution_count": 7,
   "metadata": {
    "id": "aBEZ_QOX6qOi"
   },
   "outputs": [
    {
     "name": "stdout",
     "output_type": "stream",
     "text": [
      "Shape of M1_hat_train: (56,)\n",
      "Shape of M2_hat_train: (56,)\n"
     ]
    }
   ],
   "source": [
    "M1 = np.array([5, 1])\n",
    "M2 = np.array([1, 2])\n",
    "\n",
    "M1_hat_train = np.dot(X_train, M1)\n",
    "M2_hat_train = np.dot(X_train, M2)\n",
    "\n",
    "print('Shape of M1_hat_train:', M1_hat_train.shape)\n",
    "print('Shape of M2_hat_train:', M2_hat_train.shape)\n"
   ]
  },
  {
   "cell_type": "markdown",
   "metadata": {},
   "source": [
    "### <span style=\"color:chocolate\">Exercise 5:</span> Learn parameters with Gradient Descent (20 points)"
   ]
  },
  {
   "cell_type": "markdown",
   "metadata": {
    "id": "QaXYiTm9ftRf"
   },
   "source": [
    "1. Fill in the <span style=\"color:green\">NotImplemented</span> parts of the <span style=\"color:chocolate\">gradient_descent()</span> function below. Hint: refer to ``02 Linear Regression_helper.ipynb file``;\n",
    "\n",
    "2. Run this function with our artificial (X_train, Y_train) data . Set learning_rate = .0002 and num_epochs = 5. Print out the weights and loss after each epoch. \n",
    "\n",
    "3. Generate a plot with the loss values on the y-axis and the epoch number on the x-axis for visualization. Make sure to include axes name and title."
   ]
  },
  {
   "cell_type": "code",
   "execution_count": 8,
   "metadata": {
    "id": "_hP9rzDyFXTg"
   },
   "outputs": [],
   "source": [
    "def gradient_descent(inputs, outputs, learning_rate, num_epochs):\n",
    "    \"\"\"Apply the gradient descent algorithm to learn learn linear regression.\n",
    "    \n",
    "    Args:\n",
    "    inputs: A 2-D array where each column is an input feature and each\n",
    "            row is a training example.\n",
    "    outputs: A 1-D array containing the real-valued\n",
    "             label corresponding to the input data in the same row.\n",
    "    learning_rate: The learning rate to use for updates.\n",
    "    num_epochs: The number of passes through the full training data.\n",
    "    \n",
    "    Returns:\n",
    "    weights: A 2-D array with the learned weights after each training epoch.\n",
    "    losses: A 1-D array with the loss after each epoch.\n",
    "    \"\"\"\n",
    "    # m = number of examples, n = number of features\n",
    "    m, n = inputs.shape\n",
    "    \n",
    "    # We'll use a vector of size n to store the learned weights and initialize\n",
    "    # all weights to 1. \n",
    "    W = np.ones(n)\n",
    "    \n",
    "    # Keep track of the training loss and weights after each step.\n",
    "    losses = []\n",
    "    weights = []\n",
    "    \n",
    "    for epoch in range(num_epochs):\n",
    "        # Append the old weights to the weights list to keep track of them.\n",
    "        weights.append(W)\n",
    "        \n",
    "        # Evaluate the current predictions for the training examples given\n",
    "        # the current estimate of W (you did this in exercise 5). \n",
    "        predictions = np.dot(inputs, W)\n",
    "\n",
    "        # Find the difference between the predictions and the actual target\n",
    "        # values.\n",
    "        diff = predictions - outputs\n",
    "        \n",
    "        # In standard linear regression, we want to minimize the sum of squared\n",
    "        # differences. Compute the mean squared error loss. Don't bother with the\n",
    "        # 1/2 scaling factor here.\n",
    "        loss = (diff ** 2).sum() / m\n",
    "        \n",
    "        # Append the loss to the losses list to keep a track of it.\n",
    "        losses.append(loss)\n",
    "        \n",
    "        # Compute the gradient with respect to the loss.\n",
    "        # [Formula (4) in the Gradient Descent Implementation]\n",
    "        gradient = np.dot(diff, inputs) / m\n",
    "        \n",
    "        # Update weights, scaling the gradient by the learning rate.\n",
    "        W = W - learning_rate * gradient\n",
    "    \n",
    "\n",
    "    return np.array(weights), np.array(losses)"
   ]
  },
  {
   "cell_type": "code",
   "execution_count": 9,
   "metadata": {},
   "outputs": [
    {
     "name": "stdout",
     "output_type": "stream",
     "text": [
      "--------------------------------------------------\n",
      "Epoch #1 of 5\n",
      "Weights = [1. 1.]\n",
      "Loss = 1665.37\n",
      "--------------------------------------------------\n",
      "Epoch #2 of 5\n",
      "Weights = [1.00709394 1.33262886]\n",
      "Loss = 742.41\n",
      "--------------------------------------------------\n",
      "Epoch #3 of 5\n",
      "Weights = [1.01183193 1.55469157]\n",
      "Loss = 331.07\n",
      "--------------------------------------------------\n",
      "Epoch #4 of 5\n",
      "Weights = [1.01499708 1.7029404 ]\n",
      "Loss = 147.73\n",
      "--------------------------------------------------\n",
      "Epoch #5 of 5\n",
      "Weights = [1.01711221 1.80191116]\n",
      "Loss = 66.02\n"
     ]
    },
    {
     "data": {
      "image/png": "[encoded data removed]",
      "text/plain": [
       "<Figure size 640x480 with 1 Axes>"
      ]
     },
     "metadata": {},
     "output_type": "display_data"
    }
   ],
   "source": [
    "gd_results = gradient_descent(X_train, Y_train, learning_rate=.0002, num_epochs=5)\n",
    "\n",
    "num_epochs = len(gd_results[0]) + 1\n",
    "weights = gd_results[0]\n",
    "loss = gd_results[1]\n",
    "\n",
    "for epoch in range(1, num_epochs):\n",
    "    print('-'*50)\n",
    "    print(f'Epoch #{epoch} of {num_epochs - 1}')\n",
    "    print(f'Weights = {weights[epoch - 1]}')\n",
    "    print(f'Loss = {loss[epoch - 1]:.2f}')\n",
    "\n",
    "plt.plot(range(1, num_epochs), loss, 'b--')\n",
    "plt.title('Gradient Descent Loss Curve')\n",
    "plt.xlabel('Epochs')\n",
    "plt.ylabel('Loss')\n",
    "\n",
    "plt.show()"
   ]
  },
  {
   "cell_type": "markdown",
   "metadata": {},
   "source": [
    "---\n",
    "### Step 5: Hyperparameter tuning"
   ]
  },
  {
   "cell_type": "markdown",
   "metadata": {},
   "source": [
    "Hyperparameter tuning plays an important role in optimizing ML models. One systematically adjusts hyperparameters to find the right balance between model complexity and generalization, ultimately leading to better predictive performance and model effectiveness.\n",
    "\n",
    "Note that hyperparameter tuning is typically performed on **a separate validation dataset**. However, for the purposes of this assignment and based on the ML knowledge you've acquired thus far, we will perform hyperparameter tuning directly on the training data."
   ]
  },
  {
   "cell_type": "markdown",
   "metadata": {},
   "source": [
    "### <span style=\"color:chocolate\">Exercise 6:</span> Tuning hyperparameters (10 points)"
   ]
  },
  {
   "cell_type": "markdown",
   "metadata": {},
   "source": [
    "Answer the following questions:\n",
    "    \n",
    "1. Do you think it would be beneficial to extend the model training in Exercise 5 by increasing the learning rate to 0.02? Justify your answer;\n",
    "\n",
    "2. Restoring to the previous learning_rate = .0002, would you  consider extending the model training in Exercise 5 by increasing the number of epochs to 10? Justify your answer.\n",
    "\n",
    "Note: to support your answers, we recommend the following actions:\n",
    "- create side-by-side subplots to show the loss at each epoch (make sure to include axes name and title), and\n",
    "- print the loss at the last epoch under the following scenarios:\n",
    "    - learning_rate=.0002, num_epochs=5;\n",
    "    - learning_rate=.02, num_epochs=5;\n",
    "    - learning_rate=.0002, num_epochs=10."
   ]
  },
  {
   "cell_type": "code",
   "execution_count": 10,
   "metadata": {},
   "outputs": [
    {
     "data": {
      "image/png": "[encoded data removed]",
      "text/plain": [
       "<Figure size 640x480 with 3 Axes>"
      ]
     },
     "metadata": {},
     "output_type": "display_data"
    },
    {
     "name": "stdout",
     "output_type": "stream",
     "text": [
      "--------------------------------------------------\n",
      "Scenario: Original (LR = .0002, Epochs = 5)\n",
      "Final loss amount =  66.02\n",
      "--------------------------------------------------\n",
      "Scenario: Set Learning Rate = 0.02\n",
      "Final loss amount =  1943544404976517.25\n",
      "--------------------------------------------------\n",
      "Scenario: Set Epochs = 10\n",
      "Final loss amount =  1.48\n"
     ]
    }
   ],
   "source": [
    "# 1. No - a learning rate of 0.02 is too high for this problem and results\n",
    "# in a loss that incrases with every epoch. The steps are too large and the\n",
    "# descent is bouncing over the desired point\n",
    "\n",
    "# 2. Yes - we could consider increasing the number of epochs to see if we can\n",
    "# improve our model, however we should set ourselves a baseline ahead of time \n",
    "# to see if we have accomplished a better prediction than expected. We also \n",
    "# want to make sure that we do not begin to overfit.\n",
    "\n",
    "# create a list of dictionaries with the details for each scenario\n",
    "gd_runs = [\n",
    "    {'title': 'Original (LR = .0002, Epochs = 5)', 'learning_rate': .0002, 'num_epochs': 5},\n",
    "    {'title': 'Set Learning Rate = 0.02', 'learning_rate': .02, 'num_epochs': 5},\n",
    "    {'title': 'Set Epochs = 10', 'learning_rate': .0002, 'num_epochs': 10},\n",
    "    ]\n",
    "\n",
    "# create an empty list to hold the results of each scenario\n",
    "gd_run_results = []\n",
    "\n",
    "# loop through scenarios and run gradient descent\n",
    "for gd_run in gd_runs:\n",
    "    gd_run_results.append(gradient_descent(X_train, \n",
    "                                           Y_train, \n",
    "                                           learning_rate=gd_run['learning_rate'], \n",
    "                                           num_epochs=gd_run['num_epochs']))\n",
    "\n",
    "# create a side-by-side plot of the scenarios\n",
    "fig, axs = plt.subplots(1, 3, tight_layout=True)\n",
    "\n",
    "# loop through the scnarios and create a plot\n",
    "for i in range(len(gd_runs)):\n",
    "    axs[i].plot(range(1, len(gd_run_results[i][0]) + 1), gd_run_results[i][1], 'b--')\n",
    "    axs[i].set_title(gd_runs[i]['title'])\n",
    "    axs[i].set_xlabel('Epochs')\n",
    "    axs[i].set_ylabel('Loss')\n",
    "\n",
    "plt.show()\n",
    "\n",
    "# loop through the scnarios and print final loss\n",
    "for i in range(len(gd_runs)):\n",
    "    print('-'*50)\n",
    "    print(f'Scenario: {gd_runs[i][\"title\"]}')\n",
    "    last_epoch = len(gd_run_results[i][1])\n",
    "    print(f'Final loss amount = {gd_run_results[i][1][last_epoch - 1]: .2f}')"
   ]
  },
  {
   "cell_type": "markdown",
   "metadata": {},
   "source": [
    "### <span style=\"color:chocolate\">Exercise 7:</span> Choosing the best model (10 points)"
   ]
  },
  {
   "cell_type": "markdown",
   "metadata": {},
   "source": [
    "Write down the learned model that you consider most optimal given your answers to the hyperparameter tuning exercise. Call this model $M_3(x)$."
   ]
  },
  {
   "cell_type": "code",
   "execution_count": 11,
   "metadata": {},
   "outputs": [
    {
     "name": "stdout",
     "output_type": "stream",
     "text": [
      "M3(x) = 1.0208172733581025 + 1.9743255331721494*x\n"
     ]
    }
   ],
   "source": [
    "# Get the weights for the model that uses 10 Epochs and .0002 learning rate\n",
    "scenario_num = 2 # using 0 as the first index\n",
    "last_epoch = len(gd_run_results[scenario_num][1])\n",
    "\n",
    "M3 = gd_run_results[scenario_num][0][last_epoch - 1]\n",
    "print(f'M3(x) = {M3[0]} + {M3[1]}*x')\n"
   ]
  },
  {
   "cell_type": "markdown",
   "metadata": {},
   "source": [
    "---\n",
    "### Step 6: Evaluation and Generalization"
   ]
  },
  {
   "cell_type": "markdown",
   "metadata": {},
   "source": [
    "To evaluate our models, we assess their performance based on how closely they fit the available data. In other words, we compare the true value $y$ with the predicted value $\\hat{y}$ for each $x$."
   ]
  },
  {
   "cell_type": "markdown",
   "metadata": {},
   "source": [
    "### <span style=\"color:chocolate\">Exercise 8:</span> Computing MSE (10 points)"
   ]
  },
  {
   "cell_type": "markdown",
   "metadata": {},
   "source": [
    "Assess the performance of the three models ($M_1(x)$, $M_2(x)$, $M_3(x)$) by computing the MSE metric on the training dataset. Hint: you can use the <span style=\"color:chocolate\">mean_squared_error()</span> method available in sklearn.metrics."
   ]
  },
  {
   "cell_type": "code",
   "execution_count": 12,
   "metadata": {},
   "outputs": [
    {
     "name": "stdout",
     "output_type": "stream",
     "text": [
      "MSE for training data on M1 = 1397.61\n",
      "MSE for training data on M2 = 0.33\n",
      "MSE for training data on M3 = 1.48\n"
     ]
    }
   ],
   "source": [
    "# Get results of M3 on X_train data\n",
    "M3_hat_train = np.dot(X_train, M3)\n",
    "\n",
    "# Get MSEs for each of the models\n",
    "mse_train_M1 = mean_squared_error(Y_train, M1_hat_train)\n",
    "mse_train_M2 = mean_squared_error(Y_train, M2_hat_train)\n",
    "mse_train_M3 = mean_squared_error(Y_train, M3_hat_train)\n",
    "\n",
    "print(f'MSE for training data on M1 = {mse_train_M1:.2f}')\n",
    "print(f'MSE for training data on M2 = {mse_train_M2:.2f}')\n",
    "print(f'MSE for training data on M3 = {mse_train_M3:.2f}')\n"
   ]
  },
  {
   "cell_type": "markdown",
   "metadata": {},
   "source": [
    "### <span style=\"color:chocolate\">Exercise 9:</span> Generalization (10 points)"
   ]
  },
  {
   "cell_type": "markdown",
   "metadata": {},
   "source": [
    "Which of the three models ($M_1(x)$, $M_2(x)$, $M_3(x)$) demonstrates better generalization ability?"
   ]
  },
  {
   "cell_type": "code",
   "execution_count": 13,
   "metadata": {},
   "outputs": [
    {
     "name": "stdout",
     "output_type": "stream",
     "text": [
      "MSE for test data on M1 = 1113.60\n",
      "MSE for test data on M2 = 0.29\n",
      "MSE for test data on M3 = 1.07\n"
     ]
    }
   ],
   "source": [
    "# Get results of models on X_test data\n",
    "M1_hat_test = np.dot(X_test, M1)\n",
    "M2_hat_test = np.dot(X_test, M2)\n",
    "M3_hat_test = np.dot(X_test, M3)\n",
    "\n",
    "# Get MSEs for each of the models\n",
    "mse_test_M1 = mean_squared_error(Y_test, M1_hat_test)\n",
    "mse_test_M2 = mean_squared_error(Y_test, M2_hat_test)\n",
    "mse_test_M3 = mean_squared_error(Y_test, M3_hat_test)\n",
    "\n",
    "print(f'MSE for test data on M1 = {mse_test_M1:.2f}')\n",
    "print(f'MSE for test data on M2 = {mse_test_M2:.2f}')\n",
    "print(f'MSE for test data on M3 = {mse_test_M3:.2f}')\n",
    "\n",
    "# M2 generalizes better than the other models, as it has the lowest MSE on the test data"
   ]
  },
  {
   "cell_type": "markdown",
   "metadata": {},
   "source": [
    "----\n",
    "#### <span style=\"color:chocolate\">Bonus question</span> (20 points)"
   ]
  },
  {
   "cell_type": "markdown",
   "metadata": {},
   "source": [
    "1. How does stochastic gradient descent (SGD) differ from the gradient descent (GD) approach implemented in Exercise 5?\n",
    "2. Determine the optimal weights for model $M_3(x)$ using SGD. Does SGD converge more rapidly? Explain the reasons for your answer."
   ]
  },
  {
   "cell_type": "code",
   "execution_count": 14,
   "metadata": {},
   "outputs": [],
   "source": [
    "# 1. Stochastic gradient descent (SGD) differs from gradient descent (GD) by splitting\n",
    "# the dataset into batches. The gradient is calculated for each batch, and once all the\n",
    "# batches are used then you have completed one epoch. For our implementation to become SGD\n",
    "# we must split the input data set and run the gradient descent on each batch within each epoch\n"
   ]
  },
  {
   "cell_type": "code",
   "execution_count": 15,
   "metadata": {},
   "outputs": [
    {
     "name": "stdout",
     "output_type": "stream",
     "text": [
      "--------------------------------------------------\n",
      "Epoch #1 of 5\n",
      "Final Weights Used = [1.01245284 1.5656384 ]\n",
      "Loss = 313.56\n",
      "--------------------------------------------------\n",
      "Epoch #2 of 5\n",
      "Final Weights Used = [1.01914082 1.88340808]\n",
      "Loss = 18.35\n",
      "--------------------------------------------------\n",
      "Epoch #3 of 5\n",
      "Final Weights Used = [1.02090645 1.96222116]\n",
      "Loss = 3.13\n",
      "--------------------------------------------------\n",
      "Epoch #4 of 5\n",
      "Final Weights Used = [1.02146667 1.98795121]\n",
      "Loss = 0.71\n",
      "--------------------------------------------------\n",
      "Epoch #5 of 5\n",
      "Final Weights Used = [1.0216818  1.99652323]\n",
      "Loss = 0.36\n",
      "--------------------------------------------------\n",
      "Final model from SGD = 1.0216817955963517 + 1.996523232939697*x\n"
     ]
    },
    {
     "data": {
      "image/png": "[encoded data removed]",
      "text/plain": [
       "<Figure size 640x480 with 1 Axes>"
      ]
     },
     "metadata": {},
     "output_type": "display_data"
    }
   ],
   "source": [
    "def stochastic_gradient_descent(inputs, outputs, learning_rate, num_epochs, batch_size=1):\n",
    "    \"\"\"Apply the stochastic gradient descent algorithm to learn learn linear regression.\n",
    "    \n",
    "    Args:\n",
    "    inputs: A 2-D array where each column is an input feature and each\n",
    "            row is a training example.\n",
    "    outputs: A 1-D array containing the real-valued\n",
    "             label corresponding to the input data in the same row.\n",
    "    learning_rate: The learning rate to use for updates.\n",
    "    num_epochs: The number of passes through the full training data.\n",
    "    batch_size: default is 1; The number of batches to be used\n",
    "    \n",
    "    Returns:\n",
    "    weights: A 2-D array with the learned weights after each training epoch.\n",
    "    losses: A 1-D array with the loss after each epoch.\n",
    "    \"\"\"\n",
    "    # m = number of examples, n = number of features\n",
    "    m, n = inputs.shape\n",
    "    \n",
    "    # We'll use a vector of size n to store the learned weights and initialize\n",
    "    # all weights to 1. \n",
    "    W = np.ones(n)\n",
    "    \n",
    "    # Keep track of the training loss and weights after each step.\n",
    "    losses = []\n",
    "    weights = []\n",
    "\n",
    "    # Append the old weights to the weights list to keep track of them.\n",
    "    weights.append(W)\n",
    "\n",
    "    for epoch in range(num_epochs):\n",
    "        # combine the X and Y data and shuffle before creating batches\n",
    "        temp_data_yx = np.c_[outputs, inputs]\n",
    "        np.random.shuffle(temp_data_yx)\n",
    "\n",
    "        # break data into batches and run gradient on each batch\n",
    "        for batch_start in range(0, m, batch_size):\n",
    "            # Capture the weights to be used in current batch\n",
    "            W_used = W\n",
    "            batch_stop = batch_start + batch_size\n",
    "            batch_x = temp_data_yx[batch_start:batch_stop, 1:]\n",
    "            batch_y = temp_data_yx[batch_start:batch_stop, :1].flatten()\n",
    "\n",
    "            curr_batch_size = len(batch_y)\n",
    "        \n",
    "            # Evaluate the current predictions for the training examples given\n",
    "            # the current estimate of W (you did this in exercise 5). \n",
    "            predictions = np.dot(batch_x, W)\n",
    "    \n",
    "            # Find the difference between the predictions and the actual target\n",
    "            # values.\n",
    "            diff = predictions - batch_y\n",
    "            \n",
    "            # In standard linear regression, we want to minimize the sum of squared\n",
    "            # differences. Compute the mean squared error loss. Don't bother with the\n",
    "            # 1/2 scaling factor here.\n",
    "            loss = (diff ** 2).sum() / curr_batch_size\n",
    "            \n",
    "            # Compute the gradient with respect to the loss.\n",
    "            # [Formula (4) in the Gradient Descent Implementation]\n",
    "            gradient = np.dot(diff, batch_x) / curr_batch_size\n",
    "            \n",
    "            # Update weights, scaling the gradient by the learning rate.\n",
    "            W = W - learning_rate * gradient\n",
    "\n",
    "        # Append the final weights used from current epoch to the weights list to keep track of them.\n",
    "        weights.append(W_used)\n",
    "        \n",
    "        # Append the final loss form current epoch to the losses list to keep a track of it.\n",
    "        losses.append(loss)\n",
    "\n",
    "    return np.array(weights), np.array(losses)\n",
    "\n",
    "# run the stochastic gradient descent\n",
    "sgd_run = stochastic_gradient_descent(X_train, Y_train, learning_rate=.0002, num_epochs=5, batch_size=20)\n",
    "\n",
    "# get the weights, losses, and epoch count\n",
    "num_epochs = len(sgd_run[1]) + 1\n",
    "weights = sgd_run[0]\n",
    "loss = sgd_run[1]\n",
    "\n",
    "# Loop through the epochs and print the weights and losses\n",
    "for epoch in range(1, num_epochs):\n",
    "    print('-'*50)\n",
    "    print(f'Epoch #{epoch} of {num_epochs - 1}')\n",
    "    print(f'Final Weights Used = {weights[epoch]}')\n",
    "    print(f'Loss = {loss[epoch - 1]:.2f}')\n",
    "\n",
    "# print the final model\n",
    "print('-'*50)\n",
    "print(f'Final model from SGD = {weights[num_epochs - 1][0]} + {weights[num_epochs - 1][1]}*x')\n",
    "\n",
    "# plot the loss curve from the SGD\n",
    "plt.plot(range(1, num_epochs), loss, 'b--')\n",
    "plt.title('Gradient Descent Loss Curve')\n",
    "plt.xlabel('Epochs')\n",
    "plt.ylabel('Loss')\n",
    "\n",
    "plt.show()\n",
    "\n",
    "# The SGD converges much quicker than the standard GD because the batches allow the algorithm to\n",
    "# run many more iterations of the gradient descent even if it is using a small subsection of the \n",
    "# dataset"
   ]
  }
 ],
 "metadata": {
  "accelerator": "GPU",
  "colab": {
   "collapsed_sections": [],
   "name": "02 Linear Regression.ipynb",
   "private_outputs": true,
   "provenance": [],
   "toc_visible": true
  },
  "kernelspec": {
   "display_name": "Python 3 (ipykernel)",
   "language": "python",
   "name": "python3"
  },
  "language_info": {
   "codemirror_mode": {
    "name": "ipython",
    "version": 3
   },
   "file_extension": ".py",
   "mimetype": "text/x-python",
   "name": "python",
   "nbconvert_exporter": "python",
   "pygments_lexer": "ipython3",
   "version": "3.10.12"
  }
 },
 "nbformat": 4,
 "nbformat_minor": 4
}
