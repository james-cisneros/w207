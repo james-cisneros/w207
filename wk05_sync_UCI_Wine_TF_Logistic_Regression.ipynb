{
  "nbformat": 4,
  "nbformat_minor": 0,
  "metadata": {
    "colab": {
      "provenance": []
    },
    "kernelspec": {
      "name": "python3",
      "display_name": "Python 3"
    },
    "language_info": {
      "name": "python"
    }
  },
  "cells": [
    {
      "cell_type": "code",
      "source": [
        "import csv\n",
        "import urllib.request\n",
        "\n",
        "import numpy as np\n",
        "from sklearn.model_selection import train_test_split\n",
        "from sklearn.preprocessing import StandardScaler\n",
        "from sklearn.metrics import accuracy_score\n",
        "\n",
        "import tensorflow as tf\n",
        "\n",
        "# URL of the UCI Wine dataset\n",
        "url = \"https://archive.ics.uci.edu/ml/machine-learning-databases/wine/wine.data\"\n",
        "\n",
        "# Open the URL and read the data\n",
        "response = urllib.request.urlopen(url)\n",
        "csvreader = csv.reader(response.read().decode('utf-8').splitlines())\n",
        "\n",
        "data = [list(map(float, row)) for row in csvreader]\n",
        "\n",
        "cols = ['class_label', 'alcohol', 'malic_acid', 'ash',\n",
        "          'alcalinity_of_ash', 'magnesium', 'total_pphenols',\n",
        "          'flavanoids', 'nonflavanoid_phenols', 'proanthocyanins',\n",
        "          'color_intensity', 'hue', 'OD280/OD315_of_diluted_wines',\n",
        "          'proline']\n"
      ],
      "metadata": {
        "id": "hn-puqM34p4r"
      },
      "execution_count": null,
      "outputs": []
    },
    {
      "cell_type": "code",
      "source": [
        "from collections import Counter\n",
        "\n",
        "\n",
        "Counter([x[0] for x in data])"
      ],
      "metadata": {
        "colab": {
          "base_uri": "https://localhost:8080/"
        },
        "id": "RiqHAqgHjG77",
        "outputId": "a5ffc64b-ff2c-4318-8d08-486e495634c7"
      },
      "execution_count": null,
      "outputs": [
        {
          "output_type": "execute_result",
          "data": {
            "text/plain": [
              "Counter({1.0: 59, 2.0: 71, 3.0: 48})"
            ]
          },
          "metadata": {},
          "execution_count": 12
        }
      ]
    },
    {
      "cell_type": "code",
      "source": [
        "y = [x[0]-1 for x in data]\n",
        "#y_bin = [0 if x ==1 else 1 for x in data]\n",
        "X = [x[1:] for x in data]\n",
        "\n",
        "#binary\n",
        "# Standardize features\n",
        "scaler = StandardScaler()\n",
        "X_scaled = scaler.fit_transform(X)\n",
        "print(X_scaled)\n",
        "import matplotlib.pyplot as plt\n",
        "plt.hist([x[0] for x in X])\n",
        "plt.show()"
      ],
      "metadata": {
        "colab": {
          "base_uri": "https://localhost:8080/",
          "height": 656
        },
        "id": "3ywLttjt9FCF",
        "outputId": "a20b8a66-d512-4866-c6e6-2b870162e462"
      },
      "execution_count": null,
      "outputs": [
        {
          "output_type": "stream",
          "name": "stdout",
          "text": [
            "[[ 1.51861254 -0.5622498   0.23205254 ...  0.36217728  1.84791957\n",
            "   1.01300893]\n",
            " [ 0.24628963 -0.49941338 -0.82799632 ...  0.40605066  1.1134493\n",
            "   0.96524152]\n",
            " [ 0.19687903  0.02123125  1.10933436 ...  0.31830389  0.78858745\n",
            "   1.39514818]\n",
            " ...\n",
            " [ 0.33275817  1.74474449 -0.38935541 ... -1.61212515 -1.48544548\n",
            "   0.28057537]\n",
            " [ 0.20923168  0.22769377  0.01273209 ... -1.56825176 -1.40069891\n",
            "   0.29649784]\n",
            " [ 1.39508604  1.58316512  1.36520822 ... -1.52437837 -1.42894777\n",
            "  -0.59516041]]\n"
          ]
        },
        {
          "output_type": "display_data",
          "data": {
            "text/plain": [
              "<Figure size 640x480 with 1 Axes>"
            ],
            "image/png": "[encoded data removed]"
          },
          "metadata": {}
        }
      ]
    },
    {
      "cell_type": "code",
      "source": [
        "plt.scatter([x[2] for x in X_scaled],[x[3] for x in X_scaled])\n",
        "plt.show()"
      ],
      "metadata": {
        "colab": {
          "base_uri": "https://localhost:8080/",
          "height": 430
        },
        "id": "bpbn5tgwlNyf",
        "outputId": "259c3c9d-4cd3-40b3-80ff-ffe4874b36f8"
      },
      "execution_count": null,
      "outputs": [
        {
          "output_type": "display_data",
          "data": {
            "text/plain": [
              "<Figure size 640x480 with 1 Axes>"
            ],
            "image/png": "[encoded data removed]"
          },
          "metadata": {}
        }
      ]
    },
    {
      "cell_type": "code",
      "source": [
        "\n",
        "y = [x[0]-1 for x in data]\n",
        "y_bin = [0 if x ==1 else 1 for x in data]\n",
        "X = [x[1:] for x in data]\n",
        "\n",
        "#binary\n",
        "# Standardize features\n",
        "scaler = StandardScaler()\n",
        "X_scaled = scaler.fit_transform(X)\n",
        "\n",
        "# Split the dataset into training and testing sets\n",
        "X_train, X_test, y_train, y_test = train_test_split(X_scaled, y_bin, test_size=0.3)\n",
        "\n",
        "# Convert to TensorFlow tensors\n",
        "X_train_tf = tf.convert_to_tensor(X_train, dtype=tf.float32)\n",
        "y_train_tf = tf.convert_to_tensor(y_train, dtype=tf.float32)\n",
        "X_test_tf = tf.convert_to_tensor(X_test, dtype=tf.float32)\n",
        "y_test_tf = tf.convert_to_tensor(y_test, dtype=tf.float32)\n",
        "\n",
        "# Logistic regression model\n",
        "model = tf.keras.Sequential([\n",
        "    tf.keras.layers.Dense(1, activation='sigmoid', input_shape=(X_train.shape[1],))\n",
        "    ])\n",
        "\n",
        "# Compile the model\n",
        "model.compile(optimizer='adam', loss='binary_crossentropy', metrics=['accuracy'])\n",
        "\n",
        "# Train the model\n",
        "model.fit(X_train_tf, y_train_tf, epochs=200, batch_size=16, verbose=0)\n",
        "\n",
        "# Evaluate the model\n",
        "loss, accuracy = model.evaluate(X_test_tf, y_test_tf, verbose=0)\n",
        "accuracy\n",
        "\n",
        "\n"
      ],
      "metadata": {
        "colab": {
          "base_uri": "https://localhost:8080/"
        },
        "id": "Quaji__7TX7t",
        "outputId": "45705c5e-d939-459a-d885-d9b20accd2de"
      },
      "execution_count": null,
      "outputs": [
        {
          "output_type": "execute_result",
          "data": {
            "text/plain": [
              "1.0"
            ]
          },
          "metadata": {},
          "execution_count": 34
        }
      ]
    },
    {
      "cell_type": "code",
      "source": [
        "from tensorflow.keras.utils import to_categorical\n",
        "\n",
        "X_train, X_test, y_train, y_test = train_test_split(X_scaled, y, test_size=0.3)\n",
        "\n",
        "\n",
        "# One-hot encode the labels for multi-class classification\n",
        "y_train_encoded = to_categorical(y_train)\n",
        "y_test_encoded = to_categorical(y_test)\n",
        "\n",
        "# Multi-class logistic regression model\n",
        "model = tf.keras.Sequential([\n",
        "    tf.keras.layers.Dense(units=y_train_encoded.shape[1], activation='softmax', input_shape=(X_train.shape[1],))\n",
        "    ])\n",
        "\n",
        "# Compile the model\n",
        "model.compile(optimizer='adam', loss='categorical_crossentropy', metrics=['accuracy'])\n",
        "\n",
        "# Train the model\n",
        "model.fit(X_train, y_train_encoded, epochs=100, batch_size=16, verbose=0)\n",
        "\n",
        "# Evaluate the model\n",
        "loss, accuracy = model.evaluate(X_test, y_test_encoded, verbose=0)\n",
        "print(accuracy)"
      ],
      "metadata": {
        "colab": {
          "base_uri": "https://localhost:8080/"
        },
        "id": "GrY4asz9Uqqh",
        "outputId": "57dc4a14-dc9e-4c41-928b-82586aaa043c"
      },
      "execution_count": null,
      "outputs": [
        {
          "output_type": "stream",
          "name": "stdout",
          "text": [
            "0.9259259104728699\n"
          ]
        }
      ]
    },
    {
      "cell_type": "code",
      "source": [
        "model.predict(X_test[2:3])"
      ],
      "metadata": {
        "colab": {
          "base_uri": "https://localhost:8080/"
        },
        "id": "0z_ENs8QActr",
        "outputId": "2842af51-26e3-43ee-86e6-1a77cf37f511"
      },
      "execution_count": null,
      "outputs": [
        {
          "output_type": "stream",
          "name": "stdout",
          "text": [
            "1/1 [==============================] - 0s 72ms/step\n"
          ]
        },
        {
          "output_type": "execute_result",
          "data": {
            "text/plain": [
              "array([[0.75013906, 0.23599023, 0.01387064]], dtype=float32)"
            ]
          },
          "metadata": {},
          "execution_count": 41
        }
      ]
    },
    {
      "cell_type": "code",
      "source": [
        "y_test_encoded[2]"
      ],
      "metadata": {
        "colab": {
          "base_uri": "https://localhost:8080/"
        },
        "id": "Mc5wnfPvCkWE",
        "outputId": "4c8288ce-3067-4676-faaa-376c6dc8f468"
      },
      "execution_count": null,
      "outputs": [
        {
          "output_type": "execute_result",
          "data": {
            "text/plain": [
              "array([1., 0., 0.], dtype=float32)"
            ]
          },
          "metadata": {},
          "execution_count": 42
        }
      ]
    },
    {
      "cell_type": "code",
      "source": [
        "# now with NN\n",
        "model = tf.keras.Sequential([\n",
        "    tf.keras.layers.Dense(128, activation='relu', input_shape=(X_train.shape[1],)),\n",
        "    tf.keras.layers.Dense(64, activation='relu'),\n",
        "    tf.keras.layers.Dense(units=y_train_encoded.shape[1], activation='softmax')\n",
        "])\n",
        "\n",
        "# Compile the model\n",
        "model.compile(optimizer='adam', loss='categorical_crossentropy', metrics=['accuracy'])\n",
        "\n",
        "# Train the model\n",
        "model.fit(X_train, y_train_encoded, epochs=100, batch_size=16, verbose=0)\n",
        "\n",
        "# Evaluate the model\n",
        "loss, accuracy = model.evaluate(X_test, y_test_encoded, verbose=0)\n",
        "print(accuracy)"
      ],
      "metadata": {
        "colab": {
          "base_uri": "https://localhost:8080/"
        },
        "id": "iqZzZnr2XJPC",
        "outputId": "1864fdea-8a8d-471c-e047-63889ef6539c"
      },
      "execution_count": null,
      "outputs": [
        {
          "output_type": "stream",
          "name": "stdout",
          "text": [
            "0.9444444179534912\n"
          ]
        }
      ]
    },
    {
      "cell_type": "code",
      "source": [
        "# Remember\n",
        "\n",
        "from sklearn.ensemble import RandomForestClassifier\n",
        "\n",
        "clf = RandomForestClassifier().fit(X_train, y_train)\n",
        "clf.score(X_test,y_test)"
      ],
      "metadata": {
        "colab": {
          "base_uri": "https://localhost:8080/"
        },
        "id": "Yd3JOEx4X9lL",
        "outputId": "d387d2a3-6689-4a3c-c150-7821a35f6515"
      },
      "execution_count": null,
      "outputs": [
        {
          "output_type": "execute_result",
          "data": {
            "text/plain": [
              "0.9629629629629629"
            ]
          },
          "metadata": {},
          "execution_count": 49
        }
      ]
    },
    {
      "cell_type": "code",
      "source": [
        "clf.predict_proba(X_test[0:1])\n"
      ],
      "metadata": {
        "colab": {
          "base_uri": "https://localhost:8080/"
        },
        "id": "AUFWlMGVDj2q",
        "outputId": "2f9bc73b-26a0-4381-8948-0aa3af0ff896"
      },
      "execution_count": null,
      "outputs": [
        {
          "output_type": "execute_result",
          "data": {
            "text/plain": [
              "array([[0.98, 0.02, 0.  ]])"
            ]
          },
          "metadata": {},
          "execution_count": 50
        }
      ]
    },
    {
      "cell_type": "code",
      "source": [
        "plt.hist(clf.feature_importances_)"
      ],
      "metadata": {
        "colab": {
          "base_uri": "https://localhost:8080/",
          "height": 517
        },
        "id": "7xItAn9MDmZG",
        "outputId": "f0e552a9-de32-448d-9820-c3b03001623d"
      },
      "execution_count": null,
      "outputs": [
        {
          "output_type": "execute_result",
          "data": {
            "text/plain": [
              "(array([3., 1., 3., 0., 1., 0., 0., 1., 2., 2.]),\n",
              " array([0.0057144 , 0.02139803, 0.03708166, 0.05276529, 0.06844892,\n",
              "        0.08413255, 0.09981619, 0.11549982, 0.13118345, 0.14686708,\n",
              "        0.16255071]),\n",
              " <BarContainer object of 10 artists>)"
            ]
          },
          "metadata": {},
          "execution_count": 51
        },
        {
          "output_type": "display_data",
          "data": {
            "text/plain": [
              "<Figure size 640x480 with 1 Axes>"
            ],
            "image/png": "[encoded data removed]"
          },
          "metadata": {}
        }
      ]
    },
    {
      "cell_type": "code",
      "source": [
        "import keras\n",
        "from keras.datasets import imdb\n",
        "from keras.models import Sequential\n",
        "from keras.layers import Dense\n",
        "from keras.preprocessing import sequence\n",
        "\n",
        "# Load the dataset\n",
        "top_words = 10000\n",
        "(X_train, y_train), (X_test, y_test) = imdb.load_data(num_words=top_words)\n",
        "\n",
        "# Pad the sequences\n",
        "max_words = 500\n",
        "X_train2 = sequence.pad_sequences(X_train, maxlen=max_words)\n",
        "X_test2 = sequence.pad_sequences(X_test, maxlen=max_words)\n",
        "\n",
        "# Convert the sequences to a bag-of-words model\n",
        "import numpy as np\n",
        "\n",
        "def vectorize_sequences(sequences, dimension=top_words):\n",
        "    # Create an all-zero matrix of shape (len(sequences), dimension)\n",
        "    results = np.zeros((len(sequences), dimension))\n",
        "    for i, sequence in enumerate(sequences):\n",
        "        results[i, sequence] = 1  # set specific indices of results[i] to 1s\n",
        "    return results\n",
        "\n",
        "X_train3 = vectorize_sequences(X_train2, dimension=top_words)\n",
        "X_test3 = vectorize_sequences(X_test2, dimension=top_words)\n",
        "\n",
        "# Build the model\n",
        "model = Sequential()\n",
        "model.add(Dense(256, activation='relu', input_shape=(top_words,)))\n",
        "model.add(Dense(128, activation='relu'))\n",
        "model.add(Dense(1, activation='sigmoid'))\n",
        "\n",
        "# Compile the model\n",
        "model.compile(loss='binary_crossentropy', optimizer='adam', metrics=['accuracy'])\n",
        "\n",
        "# Print the model summary\n",
        "model.summary()\n",
        "\n",
        "# Train the model\n",
        "#model.fit(X_train, y_train, validation_data=(X_test, y_test), epochs=5, batch_size=128)\n",
        "\n",
        "# Evaluate the model\n",
        "#scores = model.evaluate(X_test, y_test, verbose=0)\n",
        "#print(\"Accuracy: %.2f%%\" % (scores[1]*100))\n"
      ],
      "metadata": {
        "id": "KOjQwgJuD6hW",
        "colab": {
          "base_uri": "https://localhost:8080/"
        },
        "outputId": "ab426806-d8b0-49b5-fb42-13f9e94f6844"
      },
      "execution_count": null,
      "outputs": [
        {
          "output_type": "stream",
          "name": "stdout",
          "text": [
            "Model: \"sequential_28\"\n",
            "_________________________________________________________________\n",
            " Layer (type)                Output Shape              Param #   \n",
            "=================================================================\n",
            " dense_44 (Dense)            (None, 256)               2560256   \n",
            "                                                                 \n",
            " dense_45 (Dense)            (None, 128)               32896     \n",
            "                                                                 \n",
            " dense_46 (Dense)            (None, 1)                 129       \n",
            "                                                                 \n",
            "=================================================================\n",
            "Total params: 2593281 (9.89 MB)\n",
            "Trainable params: 2593281 (9.89 MB)\n",
            "Non-trainable params: 0 (0.00 Byte)\n",
            "_________________________________________________________________\n"
          ]
        }
      ]
    },
    {
      "cell_type": "code",
      "source": [
        "X_train[0]\n",
        "np.where(X_train2[0])\n"
      ],
      "metadata": {
        "colab": {
          "base_uri": "https://localhost:8080/"
        },
        "id": "-qYYOg5Btppf",
        "outputId": "19833585-a16e-4bb7-ef99-4d56ca83e82d"
      },
      "execution_count": null,
      "outputs": [
        {
          "output_type": "execute_result",
          "data": {
            "text/plain": [
              "(array([282, 283, 284, 285, 286, 287, 288, 289, 290, 291, 292, 293, 294,\n",
              "        295, 296, 297, 298, 299, 300, 301, 302, 303, 304, 305, 306, 307,\n",
              "        308, 309, 310, 311, 312, 313, 314, 315, 316, 317, 318, 319, 320,\n",
              "        321, 322, 323, 324, 325, 326, 327, 328, 329, 330, 331, 332, 333,\n",
              "        334, 335, 336, 337, 338, 339, 340, 341, 342, 343, 344, 345, 346,\n",
              "        347, 348, 349, 350, 351, 352, 353, 354, 355, 356, 357, 358, 359,\n",
              "        360, 361, 362, 363, 364, 365, 366, 367, 368, 369, 370, 371, 372,\n",
              "        373, 374, 375, 376, 377, 378, 379, 380, 381, 382, 383, 384, 385,\n",
              "        386, 387, 388, 389, 390, 391, 392, 393, 394, 395, 396, 397, 398,\n",
              "        399, 400, 401, 402, 403, 404, 405, 406, 407, 408, 409, 410, 411,\n",
              "        412, 413, 414, 415, 416, 417, 418, 419, 420, 421, 422, 423, 424,\n",
              "        425, 426, 427, 428, 429, 430, 431, 432, 433, 434, 435, 436, 437,\n",
              "        438, 439, 440, 441, 442, 443, 444, 445, 446, 447, 448, 449, 450,\n",
              "        451, 452, 453, 454, 455, 456, 457, 458, 459, 460, 461, 462, 463,\n",
              "        464, 465, 466, 467, 468, 469, 470, 471, 472, 473, 474, 475, 476,\n",
              "        477, 478, 479, 480, 481, 482, 483, 484, 485, 486, 487, 488, 489,\n",
              "        490, 491, 492, 493, 494, 495, 496, 497, 498, 499]),)"
            ]
          },
          "metadata": {},
          "execution_count": 66
        }
      ]
    },
    {
      "cell_type": "code",
      "source": [],
      "metadata": {
        "id": "b6EJWvkbtqbc"
      },
      "execution_count": null,
      "outputs": []
    }
  ]
}